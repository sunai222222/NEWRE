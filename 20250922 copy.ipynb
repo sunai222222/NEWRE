{
 "cells": [
  {
   "cell_type": "code",
   "execution_count": 5,
   "id": "f45af155",
   "metadata": {},
   "outputs": [
    {
     "name": "stdout",
     "output_type": "stream",
     "text": [
      "*\n",
      "*\n",
      "*\n",
      "*\n",
      "*\n",
      "*\n",
      "*\n",
      "*\n",
      "*\n",
      "*\n"
     ]
    }
   ],
   "source": [
    "n = 10\n",
    "for i in range(n):\n",
    "    print(\"*\")"
   ]
  },
  {
   "cell_type": "code",
   "execution_count": 18,
   "id": "7da104f9",
   "metadata": {},
   "outputs": [
    {
     "name": "stdout",
     "output_type": "stream",
     "text": [
      "- - - - - - - - - *\n",
      "- - - - - - - - *\n",
      "- - - - - - - *\n",
      "- - - - - - *\n",
      "- - - - - *\n",
      "- - - - *\n",
      "- - - *\n",
      "- - *\n",
      "- *\n",
      "*\n"
     ]
    }
   ],
   "source": [
    "n = 10\n",
    "for i in range(1, n + 1):\n",
    "    for j in range(n-i):\n",
    "        print('-',end=' ')\n",
    "    print(\"*\")"
   ]
  },
  {
   "cell_type": "code",
   "execution_count": 50,
   "id": "f4544e49",
   "metadata": {},
   "outputs": [
    {
     "name": "stdout",
     "output_type": "stream",
     "text": [
      "- - - - - - - - - * \n",
      "- - - - - - - - * * * \n",
      "- - - - - - - * * * * * \n",
      "- - - - - - * * * * * * * \n",
      "- - - - - * * * * * * * * * \n",
      "- - - - * * * * * * * * * * * \n",
      "- - - * * * * * * * * * * * * * \n",
      "- - * * * * * * * * * * * * * * * \n",
      "- * * * * * * * * * * * * * * * * * \n",
      "* * * * * * * * * * * * * * * * * * * \n"
     ]
    }
   ],
   "source": [
    "n = 10\n",
    "for i in range(1, n + 1):\n",
    "    for j in range(n-i):\n",
    "        print('-', end=' ')\n",
    "    for j in range(2 * i - 1):\n",
    "        print('*', end=' ')\n",
    "    print()"
   ]
  },
  {
   "cell_type": "code",
   "execution_count": 30,
   "id": "9a38bca1",
   "metadata": {},
   "outputs": [
    {
     "name": "stdout",
     "output_type": "stream",
     "text": [
      "         *\n",
      "        ***\n",
      "       *****\n",
      "      *******\n",
      "     *********\n",
      "    ***********\n",
      "   *************\n",
      "  ***************\n",
      " *****************\n",
      "*******************\n"
     ]
    }
   ],
   "source": [
    "n = 10\n",
    "for i in range(1, n + 1):\n",
    "    spaces = ' ' * (n - i)\n",
    "    stars = '*' * (2 * i - 1)\n",
    "    print(spaces + stars)"
   ]
  },
  {
   "cell_type": "code",
   "execution_count": 46,
   "id": "2b2453e7",
   "metadata": {},
   "outputs": [
    {
     "name": "stdout",
     "output_type": "stream",
     "text": [
      "(i = 0, j=0)\n",
      "(i = 0, j=1)\n",
      "(i = 0, j=2)\n",
      "(i = 0, j=3)\n",
      "(i = 0, j=4)\n",
      "(i = 1, j=0)\n",
      "(i = 1, j=1)\n",
      "(i = 1, j=2)\n",
      "(i = 1, j=3)\n",
      "(i = 1, j=4)\n",
      "(i = 2, j=0)\n",
      "(i = 2, j=1)\n",
      "(i = 2, j=2)\n",
      "(i = 2, j=3)\n",
      "(i = 2, j=4)\n",
      "(i = 3, j=0)\n",
      "(i = 3, j=1)\n",
      "(i = 3, j=2)\n",
      "(i = 3, j=3)\n",
      "(i = 3, j=4)\n",
      "(i = 4, j=0)\n",
      "(i = 4, j=1)\n",
      "(i = 4, j=2)\n",
      "(i = 4, j=3)\n",
      "(i = 4, j=4)\n",
      "16\n"
     ]
    }
   ],
   "source": [
    "num = 0\n",
    "for i in range(5):\n",
    "    for j in range(5):\n",
    "        print(f\"(i = {i}, j={j})\")\n",
    "        num = i*j\n",
    "print(num)"
   ]
  },
  {
   "cell_type": "code",
   "execution_count": 47,
   "id": "6d61463f",
   "metadata": {},
   "outputs": [
    {
     "name": "stdout",
     "output_type": "stream",
     "text": [
      "(i = 0, j = 0)\n",
      "(i = 0, j = 1)\n",
      "(i = 0, j = 2)\n",
      "(i = 0, j = 3)\n",
      "(i = 0, j = 4)\n",
      "(i = 1, j = 0)\n",
      "(i = 1, j = 1)\n",
      "(i = 1, j = 2)\n",
      "(i = 1, j = 3)\n",
      "(i = 1, j = 4)\n",
      "(i = 2, j = 0)\n",
      "(i = 2, j = 1)\n",
      "(i = 2, j = 2)\n",
      "(i = 2, j = 3)\n",
      "6\n"
     ]
    }
   ],
   "source": [
    "number = 0\n",
    "for i in range(5):\n",
    "    for j in range(5):\n",
    "        print(f\"(i = {i}, j = {j})\")\n",
    "        number = i*j\n",
    "        if i == 2 and j == 3:\n",
    "            break\n",
    "    if i == 2 and j == 3:\n",
    "        break\n",
    "\n",
    "print(number)"
   ]
  },
  {
   "cell_type": "code",
   "execution_count": 67,
   "id": "73a49e5b",
   "metadata": {},
   "outputs": [
    {
     "name": "stdout",
     "output_type": "stream",
     "text": [
      "* \n",
      "* * \n",
      "* * * \n",
      "* * * * \n",
      "* * * * * \n",
      "* * * * * * \n",
      "* * * * * * * \n",
      "* * "
     ]
    }
   ],
   "source": [
    "n = 30\n",
    "star = 0\n",
    "break_all = False\n",
    "\n",
    "for i in range(1, 10+1):\n",
    "    for j in range(i):\n",
    "        star += 1\n",
    "        if star > n:\n",
    "            break_all = True\n",
    "            break\n",
    "        print('*', end=' ')\n",
    "    if break_all:\n",
    "        break\n",
    "    print()\n"
   ]
  },
  {
   "cell_type": "code",
   "execution_count": 71,
   "id": "d111828d",
   "metadata": {},
   "outputs": [
    {
     "name": "stdout",
     "output_type": "stream",
     "text": [
      "* \n",
      "* * \n",
      "* * * \n",
      "* * * * \n",
      "* * * * * \n",
      "* * * * * * \n",
      "* * * * * * * \n",
      "* * "
     ]
    }
   ],
   "source": [
    "n = 30\n",
    "star = 0\n",
    "break_all = False\n",
    "\n",
    "for i in range(1, 10+1):\n",
    "    for j in range(i):\n",
    "        star += 1\n",
    "        if star > n:\n",
    "            break_all = True\n",
    "            break\n",
    "        print('*', end=' ')\n",
    "    if break_all:\n",
    "        break\n",
    "    print()"
   ]
  },
  {
   "cell_type": "code",
   "execution_count": 96,
   "id": "40a1fe3c",
   "metadata": {},
   "outputs": [],
   "source": [
    "my_str = \"Hello, Python\""
   ]
  },
  {
   "cell_type": "code",
   "execution_count": null,
   "id": "23d73997",
   "metadata": {},
   "outputs": [
    {
     "data": {
      "text/plain": [
       "'Hello, Python'"
      ]
     },
     "execution_count": 101,
     "metadata": {},
     "output_type": "execute_result"
    }
   ],
   "source": [
    "my_str[]"
   ]
  },
  {
   "cell_type": "code",
   "execution_count": 102,
   "id": "d1e4a474",
   "metadata": {},
   "outputs": [
    {
     "data": {
      "text/plain": [
       "str"
      ]
     },
     "execution_count": 102,
     "metadata": {},
     "output_type": "execute_result"
    }
   ],
   "source": [
    "type(my_str)"
   ]
  },
  {
   "cell_type": "code",
   "execution_count": 175,
   "id": "6d915277",
   "metadata": {},
   "outputs": [
    {
     "name": "stdout",
     "output_type": "stream",
     "text": [
      "0\n",
      "1\n",
      "2\n",
      "3\n",
      "4\n",
      "5\n",
      "6\n",
      "7\n",
      "8\n",
      "9\n",
      "10\n",
      "11\n",
      "12\n"
     ]
    }
   ],
   "source": [
    "for i in range(len(my_str)):\n",
    "    print(i)"
   ]
  },
  {
   "cell_type": "code",
   "execution_count": 104,
   "id": "73763def",
   "metadata": {},
   "outputs": [
    {
     "data": {
      "text/plain": [
       "13"
      ]
     },
     "execution_count": 104,
     "metadata": {},
     "output_type": "execute_result"
    }
   ],
   "source": [
    "len(my_str)"
   ]
  },
  {
   "cell_type": "code",
   "execution_count": 105,
   "id": "99987c53",
   "metadata": {},
   "outputs": [
    {
     "data": {
      "text/plain": [
       "'hello, python'"
      ]
     },
     "execution_count": 105,
     "metadata": {},
     "output_type": "execute_result"
    }
   ],
   "source": [
    "my_str.lower()"
   ]
  },
  {
   "cell_type": "code",
   "execution_count": 111,
   "id": "7ca3e662",
   "metadata": {},
   "outputs": [
    {
     "name": "stdout",
     "output_type": "stream",
     "text": [
      "['Hello', ' Python']\n"
     ]
    }
   ],
   "source": [
    "words = my_str.split(',')\n",
    "print(words)"
   ]
  },
  {
   "cell_type": "code",
   "execution_count": 113,
   "id": "3fad76f9",
   "metadata": {},
   "outputs": [
    {
     "data": {
      "text/plain": [
       "[1, 2, 3, 4, 5, 6, 7, 8, 9, 10]"
      ]
     },
     "execution_count": 113,
     "metadata": {},
     "output_type": "execute_result"
    }
   ],
   "source": [
    "num1 = [ 1, 2, 3, 4, 5]\n",
    "num2 = [6, 7, 8, 9, 10]\n",
    "num1 + num2"
   ]
  },
  {
   "cell_type": "code",
   "execution_count": 114,
   "id": "f72e3284",
   "metadata": {},
   "outputs": [
    {
     "data": {
      "text/plain": [
       "[1, 2, 3, 4, 5, 1, 2, 3, 4, 5]"
      ]
     },
     "execution_count": 114,
     "metadata": {},
     "output_type": "execute_result"
    }
   ],
   "source": [
    "num1 * 2"
   ]
  },
  {
   "cell_type": "code",
   "execution_count": 115,
   "id": "06d1db70",
   "metadata": {},
   "outputs": [],
   "source": [
    "fruit = ['apple', 'banana', 'mango']"
   ]
  },
  {
   "cell_type": "code",
   "execution_count": 121,
   "id": "d0b8d742",
   "metadata": {},
   "outputs": [
    {
     "data": {
      "text/plain": [
       "['apple', 'mango']"
      ]
     },
     "execution_count": 121,
     "metadata": {},
     "output_type": "execute_result"
    }
   ],
   "source": [
    "fruit[0::2]"
   ]
  },
  {
   "cell_type": "code",
   "execution_count": 122,
   "id": "97505df6",
   "metadata": {},
   "outputs": [],
   "source": [
    "fruit.append('cherry')"
   ]
  },
  {
   "cell_type": "code",
   "execution_count": 123,
   "id": "02668078",
   "metadata": {},
   "outputs": [
    {
     "data": {
      "text/plain": [
       "['apple', 'banana', 'mango', 'cherry']"
      ]
     },
     "execution_count": 123,
     "metadata": {},
     "output_type": "execute_result"
    }
   ],
   "source": [
    "fruit"
   ]
  },
  {
   "cell_type": "code",
   "execution_count": 127,
   "id": "4341de4e",
   "metadata": {},
   "outputs": [],
   "source": [
    "fruit.insert(2,'lemon')"
   ]
  },
  {
   "cell_type": "code",
   "execution_count": 128,
   "id": "c31b3284",
   "metadata": {},
   "outputs": [
    {
     "data": {
      "text/plain": [
       "['apple', 'banana', 'lemon', 'mango', 'cherry']"
      ]
     },
     "execution_count": 128,
     "metadata": {},
     "output_type": "execute_result"
    }
   ],
   "source": [
    "fruit"
   ]
  },
  {
   "cell_type": "code",
   "execution_count": 129,
   "id": "0435c5d8",
   "metadata": {},
   "outputs": [
    {
     "data": {
      "text/plain": [
       "'cherry'"
      ]
     },
     "execution_count": 129,
     "metadata": {},
     "output_type": "execute_result"
    }
   ],
   "source": [
    "fruit[-1]"
   ]
  },
  {
   "cell_type": "code",
   "execution_count": 131,
   "id": "f9c16e55",
   "metadata": {},
   "outputs": [],
   "source": [
    "fruit[0] = 'grape'"
   ]
  },
  {
   "cell_type": "code",
   "execution_count": 132,
   "id": "3890b227",
   "metadata": {},
   "outputs": [
    {
     "data": {
      "text/plain": [
       "['grape', 'banana', 'lemon', 'mango', 'cherry']"
      ]
     },
     "execution_count": 132,
     "metadata": {},
     "output_type": "execute_result"
    }
   ],
   "source": [
    "fruit"
   ]
  },
  {
   "cell_type": "code",
   "execution_count": 133,
   "id": "ba425ded",
   "metadata": {},
   "outputs": [],
   "source": [
    "fruit.extend(['oreange','melon'])"
   ]
  },
  {
   "cell_type": "code",
   "execution_count": 134,
   "id": "2d5ff777",
   "metadata": {},
   "outputs": [
    {
     "data": {
      "text/plain": [
       "['grape', 'banana', 'lemon', 'mango', 'cherry', 'oreange', 'melon']"
      ]
     },
     "execution_count": 134,
     "metadata": {},
     "output_type": "execute_result"
    }
   ],
   "source": [
    "fruit"
   ]
  },
  {
   "cell_type": "code",
   "execution_count": 135,
   "id": "1cfa5e94",
   "metadata": {},
   "outputs": [
    {
     "data": {
      "text/plain": [
       "'melon'"
      ]
     },
     "execution_count": 135,
     "metadata": {},
     "output_type": "execute_result"
    }
   ],
   "source": [
    "fruit.pop()"
   ]
  },
  {
   "cell_type": "code",
   "execution_count": 136,
   "id": "1d26744b",
   "metadata": {},
   "outputs": [
    {
     "data": {
      "text/plain": [
       "['grape', 'banana', 'lemon', 'mango', 'cherry', 'oreange']"
      ]
     },
     "execution_count": 136,
     "metadata": {},
     "output_type": "execute_result"
    }
   ],
   "source": [
    "fruit"
   ]
  },
  {
   "cell_type": "code",
   "execution_count": 137,
   "id": "ecfa8d54",
   "metadata": {},
   "outputs": [
    {
     "ename": "TypeError",
     "evalue": "'list' object is not callable",
     "output_type": "error",
     "traceback": [
      "\u001b[31m---------------------------------------------------------------------------\u001b[39m",
      "\u001b[31mTypeError\u001b[39m                                 Traceback (most recent call last)",
      "\u001b[36mCell\u001b[39m\u001b[36m \u001b[39m\u001b[32mIn[137]\u001b[39m\u001b[32m, line 1\u001b[39m\n\u001b[32m----> \u001b[39m\u001b[32m1\u001b[39m \u001b[43mfruit\u001b[49m\u001b[43m(\u001b[49m\u001b[32;43m0\u001b[39;49m\u001b[43m)\u001b[49m\n",
      "\u001b[31mTypeError\u001b[39m: 'list' object is not callable"
     ]
    }
   ],
   "source": [
    "fruit(0)"
   ]
  },
  {
   "cell_type": "code",
   "execution_count": 138,
   "id": "c857f81f",
   "metadata": {},
   "outputs": [
    {
     "data": {
      "text/plain": [
       "'grape'"
      ]
     },
     "execution_count": 138,
     "metadata": {},
     "output_type": "execute_result"
    }
   ],
   "source": [
    "fruit.pop(0)      "
   ]
  },
  {
   "cell_type": "code",
   "execution_count": 139,
   "id": "b0534a93",
   "metadata": {},
   "outputs": [],
   "source": [
    "fruit.remove(\"cherry\")"
   ]
  },
  {
   "cell_type": "code",
   "execution_count": 140,
   "id": "95231feb",
   "metadata": {},
   "outputs": [
    {
     "data": {
      "text/plain": [
       "['banana', 'lemon', 'mango', 'oreange']"
      ]
     },
     "execution_count": 140,
     "metadata": {},
     "output_type": "execute_result"
    }
   ],
   "source": [
    "fruit"
   ]
  },
  {
   "cell_type": "code",
   "execution_count": 141,
   "id": "ee8c180b",
   "metadata": {},
   "outputs": [
    {
     "ename": "ValueError",
     "evalue": "list.remove(x): x not in list",
     "output_type": "error",
     "traceback": [
      "\u001b[31m---------------------------------------------------------------------------\u001b[39m",
      "\u001b[31mValueError\u001b[39m                                Traceback (most recent call last)",
      "\u001b[36mCell\u001b[39m\u001b[36m \u001b[39m\u001b[32mIn[141]\u001b[39m\u001b[32m, line 1\u001b[39m\n\u001b[32m----> \u001b[39m\u001b[32m1\u001b[39m \u001b[43mfruit\u001b[49m\u001b[43m.\u001b[49m\u001b[43mremove\u001b[49m\u001b[43m(\u001b[49m\u001b[33;43m\"\u001b[39;49m\u001b[33;43mche\u001b[39;49m\u001b[33;43m\"\u001b[39;49m\u001b[43m)\u001b[49m\n",
      "\u001b[31mValueError\u001b[39m: list.remove(x): x not in list"
     ]
    }
   ],
   "source": [
    "fruit.remove(\"che\")"
   ]
  },
  {
   "cell_type": "code",
   "execution_count": 150,
   "id": "26d005c7",
   "metadata": {},
   "outputs": [
    {
     "data": {
      "text/plain": [
       "['banana',\n",
       " 'lemon',\n",
       " 'mango',\n",
       " 'oreange',\n",
       " 'jujube',\n",
       " 'jujube',\n",
       " 'jujube',\n",
       " 'jujube',\n",
       " 'jujube']"
      ]
     },
     "execution_count": 150,
     "metadata": {},
     "output_type": "execute_result"
    }
   ],
   "source": [
    "fruit.append('jujube')\n",
    "fruit"
   ]
  },
  {
   "cell_type": "code",
   "execution_count": 152,
   "id": "a71ab804",
   "metadata": {},
   "outputs": [
    {
     "data": {
      "text/plain": [
       "4"
      ]
     },
     "execution_count": 152,
     "metadata": {},
     "output_type": "execute_result"
    }
   ],
   "source": [
    "fruit.index('jujube')"
   ]
  },
  {
   "cell_type": "code",
   "execution_count": 153,
   "id": "e1ab634a",
   "metadata": {},
   "outputs": [],
   "source": [
    "fruit.remove('jujube')"
   ]
  },
  {
   "cell_type": "code",
   "execution_count": 154,
   "id": "0f8f7963",
   "metadata": {},
   "outputs": [
    {
     "data": {
      "text/plain": [
       "['banana', 'lemon', 'mango', 'oreange', 'jujube', 'jujube', 'jujube', 'jujube']"
      ]
     },
     "execution_count": 154,
     "metadata": {},
     "output_type": "execute_result"
    }
   ],
   "source": [
    "fruit"
   ]
  },
  {
   "cell_type": "code",
   "execution_count": 156,
   "id": "f9930f25",
   "metadata": {},
   "outputs": [
    {
     "data": {
      "text/plain": [
       "8"
      ]
     },
     "execution_count": 156,
     "metadata": {},
     "output_type": "execute_result"
    }
   ],
   "source": [
    "len(fruit)"
   ]
  },
  {
   "cell_type": "code",
   "execution_count": 158,
   "id": "40100075",
   "metadata": {},
   "outputs": [
    {
     "data": {
      "text/plain": [
       "'jujube'"
      ]
     },
     "execution_count": 158,
     "metadata": {},
     "output_type": "execute_result"
    }
   ],
   "source": [
    "fruit.pop(4)"
   ]
  },
  {
   "cell_type": "code",
   "execution_count": 159,
   "id": "467afb60",
   "metadata": {},
   "outputs": [
    {
     "data": {
      "text/plain": [
       "['banana', 'lemon', 'mango', 'oreange', 'jujube', 'jujube', 'jujube']"
      ]
     },
     "execution_count": 159,
     "metadata": {},
     "output_type": "execute_result"
    }
   ],
   "source": [
    "fruit"
   ]
  },
  {
   "cell_type": "code",
   "execution_count": 160,
   "id": "e6ae904a",
   "metadata": {},
   "outputs": [],
   "source": [
    "fruit.sort()"
   ]
  },
  {
   "cell_type": "code",
   "execution_count": 161,
   "id": "e2ef7f26",
   "metadata": {},
   "outputs": [
    {
     "data": {
      "text/plain": [
       "['banana', 'jujube', 'jujube', 'jujube', 'lemon', 'mango', 'oreange']"
      ]
     },
     "execution_count": 161,
     "metadata": {},
     "output_type": "execute_result"
    }
   ],
   "source": [
    "fruit"
   ]
  },
  {
   "cell_type": "code",
   "execution_count": 162,
   "id": "0e0286da",
   "metadata": {},
   "outputs": [],
   "source": [
    "fruit.sort(reverse = True)"
   ]
  },
  {
   "cell_type": "code",
   "execution_count": 163,
   "id": "36fa14d6",
   "metadata": {},
   "outputs": [
    {
     "data": {
      "text/plain": [
       "['oreange', 'mango', 'lemon', 'jujube', 'jujube', 'jujube', 'banana']"
      ]
     },
     "execution_count": 163,
     "metadata": {},
     "output_type": "execute_result"
    }
   ],
   "source": [
    "fruit"
   ]
  },
  {
   "cell_type": "code",
   "execution_count": 164,
   "id": "cd30eaea",
   "metadata": {},
   "outputs": [],
   "source": [
    "fruit.remove('jujube')"
   ]
  },
  {
   "cell_type": "code",
   "execution_count": 165,
   "id": "74369567",
   "metadata": {},
   "outputs": [
    {
     "data": {
      "text/plain": [
       "['oreange', 'mango', 'lemon', 'jujube', 'jujube', 'banana']"
      ]
     },
     "execution_count": 165,
     "metadata": {},
     "output_type": "execute_result"
    }
   ],
   "source": [
    "fruit"
   ]
  },
  {
   "cell_type": "code",
   "execution_count": 167,
   "id": "010e0298",
   "metadata": {},
   "outputs": [],
   "source": [
    "fruit.insert(0, 'apple')\n"
   ]
  },
  {
   "cell_type": "code",
   "execution_count": 168,
   "id": "7e7a63b1",
   "metadata": {},
   "outputs": [
    {
     "data": {
      "text/plain": [
       "['apple', 'oreange', 'mango', 'lemon', 'jujube', 'jujube', 'banana']"
      ]
     },
     "execution_count": 168,
     "metadata": {},
     "output_type": "execute_result"
    }
   ],
   "source": [
    "fruit"
   ]
  },
  {
   "cell_type": "code",
   "execution_count": 173,
   "id": "b96ad0b6",
   "metadata": {},
   "outputs": [
    {
     "name": "stdout",
     "output_type": "stream",
     "text": [
      "0 번째 과일은 apple입니다.\n",
      "1 번째 과일은 oreange입니다.\n",
      "2 번째 과일은 mango입니다.\n",
      "3 번째 과일은 cherry입니다.\n"
     ]
    }
   ],
   "source": [
    "fruit = ['apple', 'oreange', 'mango', 'cherry']\n",
    "for i in range(len(fruit)):\n",
    "    print(f\"{i} 번째 과일은 {fruit[i]}입니다.\")"
   ]
  },
  {
   "cell_type": "code",
   "execution_count": 176,
   "id": "e4d3628f",
   "metadata": {},
   "outputs": [
    {
     "data": {
      "text/plain": [
       "5"
      ]
     },
     "execution_count": 176,
     "metadata": {},
     "output_type": "execute_result"
    }
   ],
   "source": [
    "number = [ 10, 20, 30, 40, 50]\n",
    "len(number)"
   ]
  },
  {
   "cell_type": "code",
   "execution_count": 177,
   "id": "143cb6ec",
   "metadata": {},
   "outputs": [
    {
     "data": {
      "text/plain": [
       "50"
      ]
     },
     "execution_count": 177,
     "metadata": {},
     "output_type": "execute_result"
    }
   ],
   "source": [
    "max(number)"
   ]
  },
  {
   "cell_type": "code",
   "execution_count": 178,
   "id": "020a353f",
   "metadata": {},
   "outputs": [
    {
     "data": {
      "text/plain": [
       "10"
      ]
     },
     "execution_count": 178,
     "metadata": {},
     "output_type": "execute_result"
    }
   ],
   "source": [
    "min(number)"
   ]
  },
  {
   "cell_type": "code",
   "execution_count": 179,
   "id": "d089c5db",
   "metadata": {},
   "outputs": [
    {
     "data": {
      "text/plain": [
       "150"
      ]
     },
     "execution_count": 179,
     "metadata": {},
     "output_type": "execute_result"
    }
   ],
   "source": [
    "sum(number)"
   ]
  },
  {
   "cell_type": "code",
   "execution_count": null,
   "id": "33b5250e",
   "metadata": {},
   "outputs": [
    {
     "ename": "NameError",
     "evalue": "name 'mean' is not defined",
     "output_type": "error",
     "traceback": [
      "\u001b[31m---------------------------------------------------------------------------\u001b[39m",
      "\u001b[31mNameError\u001b[39m                                 Traceback (most recent call last)",
      "\u001b[36mCell\u001b[39m\u001b[36m \u001b[39m\u001b[32mIn[180]\u001b[39m\u001b[32m, line 1\u001b[39m\n\u001b[32m----> \u001b[39m\u001b[32m1\u001b[39m \u001b[43mmean\u001b[49m(number)\n",
      "\u001b[31mNameError\u001b[39m: name 'mean' is not defined"
     ]
    }
   ],
   "source": []
  },
  {
   "cell_type": "code",
   "execution_count": 182,
   "id": "b872463e",
   "metadata": {},
   "outputs": [
    {
     "data": {
      "text/plain": [
       "30.0"
      ]
     },
     "execution_count": 182,
     "metadata": {},
     "output_type": "execute_result"
    }
   ],
   "source": [
    "sum(number)/len(number)"
   ]
  },
  {
   "cell_type": "code",
   "execution_count": 183,
   "id": "9037f217",
   "metadata": {},
   "outputs": [],
   "source": [
    "numbers = [1, 2, 3, 4, 5, 6, 7, 8, 9]"
   ]
  },
  {
   "cell_type": "code",
   "execution_count": 184,
   "id": "e4d404c9",
   "metadata": {},
   "outputs": [],
   "source": [
    "number = [i for i in range(10)]"
   ]
  },
  {
   "cell_type": "code",
   "execution_count": 2,
   "id": "5174a8f6",
   "metadata": {},
   "outputs": [
    {
     "data": {
      "text/plain": [
       "[1, 2, 3, 4, 5, 6, 7, 8, 9, 10]"
      ]
     },
     "execution_count": 2,
     "metadata": {},
     "output_type": "execute_result"
    }
   ],
   "source": [
    "numbers = [i for i in range(1, 10+1)]\n",
    "numbers "
   ]
  },
  {
   "cell_type": "code",
   "execution_count": 3,
   "id": "c75a79fd",
   "metadata": {},
   "outputs": [
    {
     "data": {
      "text/plain": [
       "[2, 4, 6, 8, 10, 12, 14, 16, 18, 20]"
      ]
     },
     "execution_count": 3,
     "metadata": {},
     "output_type": "execute_result"
    }
   ],
   "source": [
    "numbers = [i * 2 for i in range(1, 10+1)]\n",
    "numbers "
   ]
  },
  {
   "cell_type": "markdown",
   "id": "fb0625d6",
   "metadata": {},
   "source": []
  },
  {
   "cell_type": "code",
   "execution_count": null,
   "id": "c7cd2059",
   "metadata": {},
   "outputs": [],
   "source": [
    "num_list=[]\n",
    "for i in "
   ]
  },
  {
   "cell_type": "code",
   "execution_count": null,
   "id": "dcecd1ca",
   "metadata": {},
   "outputs": [],
   "source": []
  },
  {
   "cell_type": "code",
   "execution_count": 4,
   "id": "10a48bd5",
   "metadata": {},
   "outputs": [
    {
     "data": {
      "text/plain": [
       "[2, 4, 6, 8, 10]"
      ]
     },
     "execution_count": 4,
     "metadata": {},
     "output_type": "execute_result"
    }
   ],
   "source": [
    "numbers = [i for i in range(1, 10+1) if i % 2 == 0]\n",
    "numbers "
   ]
  },
  {
   "cell_type": "code",
   "execution_count": 20,
   "id": "f409a6bf",
   "metadata": {},
   "outputs": [
    {
     "name": "stdout",
     "output_type": "stream",
     "text": [
      "합격\n",
      "불합격\n",
      "합격\n",
      "불합격\n",
      "합격\n"
     ]
    }
   ],
   "source": [
    "# 5명 학생, 시험 점수 합격/불합격\n",
    "marks = [90, 25, 67, 45, 80]\n",
    "\n",
    "for i in marks:\n",
    "    \n",
    "    if i >= 60:\n",
    "          print('합격')\n",
    "    else:\n",
    "        print(\"불합격\")\n"
   ]
  },
  {
   "cell_type": "code",
   "execution_count": 16,
   "id": "4e860db3",
   "metadata": {},
   "outputs": [
    {
     "name": "stdout",
     "output_type": "stream",
     "text": [
      "1번째 학생 합격\n",
      "2번째 학생 불합격\n",
      "3번째 학생 합격\n",
      "4번째 학생 불합격\n",
      "5번째 학생 합격\n"
     ]
    }
   ],
   "source": [
    "marks = [90, 25, 67, 45, 80]\n",
    "number = 0\n",
    "for i in marks:\n",
    "    number += 1\n",
    "\n",
    "    if i >= 60:\n",
    "          print(f'{number}번째 학생 합격')\n",
    "    else:\n",
    "        print(f'{number}번째 학생 불합격')"
   ]
  },
  {
   "cell_type": "code",
   "execution_count": 34,
   "id": "3ee2b52b",
   "metadata": {},
   "outputs": [
    {
     "name": "stdout",
     "output_type": "stream",
     "text": [
      "끝말잇기 게임\n",
      "시작\n",
      "가나다\n",
      "다람쥐\n",
      "쥐포\n",
      "끝\n"
     ]
    }
   ],
   "source": [
    "# 끝말잇기 게임\n",
    "# 가나다,다람쥐,쥐포,포기,귀찮아,끝\n",
    "\n",
    "print(\"끝말잇기 게임\")\n",
    "print(\"시작\")\n",
    "var = \"가나다\"\n",
    "print(var)\n",
    "\n",
    "for i in var:\n",
    "    while True:\n",
    "        answer = input(\"끝말잇기 단어를 입력해 주세요.\")\n",
    "        if answer[0] == var[-1]:\n",
    "          print(answer)\n",
    "          var = answer\n",
    "        else:\n",
    "            print('끝')\n",
    "        break\n"
   ]
  },
  {
   "cell_type": "code",
   "execution_count": 41,
   "id": "04a56669",
   "metadata": {},
   "outputs": [
    {
     "name": "stdout",
     "output_type": "stream",
     "text": [
      "[1, 3, 0, 1]\n"
     ]
    }
   ],
   "source": [
    "numbers = [1, 1, 3, 3, 0, 1, 1]\n",
    "answer = [ ]\n",
    "comp = numbers[0]\n",
    "answer.append(comp)\n",
    "\n",
    "for i in numbers:\n",
    "        if comp != i:\n",
    "              comp = i\n",
    "              answer.append(comp)\n",
    "print(answer)"
   ]
  },
  {
   "cell_type": "code",
   "execution_count": 44,
   "id": "99615244",
   "metadata": {},
   "outputs": [
    {
     "name": "stdout",
     "output_type": "stream",
     "text": [
      "[0, 1, 3]\n"
     ]
    }
   ],
   "source": [
    "numbers = [1, 1, 3, 3, 0, 1, 1]\n",
    "unique_data = list(set(numbers))\n",
    "print(unique_data)\n"
   ]
  },
  {
   "cell_type": "markdown",
   "id": "b66b55dd",
   "metadata": {},
   "source": [
    "딕셔너리"
   ]
  },
  {
   "cell_type": "code",
   "execution_count": 45,
   "id": "b9e1ed6e",
   "metadata": {},
   "outputs": [],
   "source": [
    "student = {'name' : 'Jimin', 'age' : 29, 'hobby' : 'game'}"
   ]
  },
  {
   "cell_type": "code",
   "execution_count": 46,
   "id": "a5fb1054",
   "metadata": {},
   "outputs": [
    {
     "data": {
      "text/plain": [
       "dict"
      ]
     },
     "execution_count": 46,
     "metadata": {},
     "output_type": "execute_result"
    }
   ],
   "source": [
    "type(student)"
   ]
  },
  {
   "cell_type": "code",
   "execution_count": 47,
   "id": "014550d8",
   "metadata": {},
   "outputs": [],
   "source": [
    "mylist = {}\n",
    "mylist = dict()"
   ]
  },
  {
   "cell_type": "code",
   "execution_count": 48,
   "id": "1711d96c",
   "metadata": {},
   "outputs": [],
   "source": [
    "person = dict(name='chris')"
   ]
  },
  {
   "cell_type": "code",
   "execution_count": 49,
   "id": "e74ccbd2",
   "metadata": {},
   "outputs": [],
   "source": [
    "student = {'name' : 'Jimin', 'age' : 29, 'hobby' : 'game', 'name' : 'Amy'}"
   ]
  },
  {
   "cell_type": "code",
   "execution_count": 50,
   "id": "47a4700d",
   "metadata": {},
   "outputs": [
    {
     "data": {
      "text/plain": [
       "{'name': 'Amy', 'age': 29, 'hobby': 'game'}"
      ]
     },
     "execution_count": 50,
     "metadata": {},
     "output_type": "execute_result"
    }
   ],
   "source": [
    "student"
   ]
  },
  {
   "cell_type": "code",
   "execution_count": 51,
   "id": "1b3b8f25",
   "metadata": {},
   "outputs": [
    {
     "data": {
      "text/plain": [
       "29"
      ]
     },
     "execution_count": 51,
     "metadata": {},
     "output_type": "execute_result"
    }
   ],
   "source": [
    "student['age']"
   ]
  },
  {
   "cell_type": "code",
   "execution_count": 52,
   "id": "d4eb1c64",
   "metadata": {},
   "outputs": [
    {
     "data": {
      "text/plain": [
       "dict_keys(['name', 'age', 'hobby'])"
      ]
     },
     "execution_count": 52,
     "metadata": {},
     "output_type": "execute_result"
    }
   ],
   "source": [
    "student.keys()"
   ]
  },
  {
   "cell_type": "code",
   "execution_count": 53,
   "id": "083dd257",
   "metadata": {},
   "outputs": [
    {
     "data": {
      "text/plain": [
       "dict_values(['Amy', 29, 'game'])"
      ]
     },
     "execution_count": 53,
     "metadata": {},
     "output_type": "execute_result"
    }
   ],
   "source": [
    "student.values()"
   ]
  },
  {
   "cell_type": "code",
   "execution_count": 54,
   "id": "416167ce",
   "metadata": {},
   "outputs": [
    {
     "data": {
      "text/plain": [
       "dict_items([('name', 'Amy'), ('age', 29), ('hobby', 'game')])"
      ]
     },
     "execution_count": 54,
     "metadata": {},
     "output_type": "execute_result"
    }
   ],
   "source": [
    "student.items()"
   ]
  },
  {
   "cell_type": "code",
   "execution_count": 55,
   "id": "ef0b8542",
   "metadata": {},
   "outputs": [
    {
     "name": "stdout",
     "output_type": "stream",
     "text": [
      "name\n",
      "age\n",
      "hobby\n"
     ]
    }
   ],
   "source": [
    "for i in student.keys():\n",
    "    print(i)"
   ]
  },
  {
   "cell_type": "code",
   "execution_count": 60,
   "id": "9124b566",
   "metadata": {},
   "outputs": [
    {
     "data": {
      "text/plain": [
       "'Amy'"
      ]
     },
     "execution_count": 60,
     "metadata": {},
     "output_type": "execute_result"
    }
   ],
   "source": [
    "student['name']"
   ]
  },
  {
   "cell_type": "code",
   "execution_count": 62,
   "id": "49d321c3",
   "metadata": {},
   "outputs": [],
   "source": [
    "student['addr'] = '군산시 월명동'\n"
   ]
  },
  {
   "cell_type": "code",
   "execution_count": 69,
   "id": "66753883",
   "metadata": {},
   "outputs": [
    {
     "data": {
      "text/plain": [
       "{'name': 'Amy', 'hobby': 'game', 'addr': '군산시 월명동'}"
      ]
     },
     "execution_count": 69,
     "metadata": {},
     "output_type": "execute_result"
    }
   ],
   "source": [
    "student"
   ]
  },
  {
   "cell_type": "code",
   "execution_count": 64,
   "id": "283d4ade",
   "metadata": {},
   "outputs": [],
   "source": [
    "student.get('addr2,\"null')"
   ]
  },
  {
   "cell_type": "code",
   "execution_count": 70,
   "id": "cfbf1fd0",
   "metadata": {},
   "outputs": [
    {
     "data": {
      "text/plain": [
       "('addr', '군산시 월명동')"
      ]
     },
     "execution_count": 70,
     "metadata": {},
     "output_type": "execute_result"
    }
   ],
   "source": [
    "student.popitem()"
   ]
  },
  {
   "cell_type": "code",
   "execution_count": 71,
   "id": "42d063fc",
   "metadata": {},
   "outputs": [
    {
     "data": {
      "text/plain": [
       "{'name': 'Amy', 'hobby': 'game'}"
      ]
     },
     "execution_count": 71,
     "metadata": {},
     "output_type": "execute_result"
    }
   ],
   "source": [
    "student"
   ]
  },
  {
   "cell_type": "code",
   "execution_count": 73,
   "id": "186dddca",
   "metadata": {},
   "outputs": [
    {
     "data": {
      "text/plain": [
       "True"
      ]
     },
     "execution_count": 73,
     "metadata": {},
     "output_type": "execute_result"
    }
   ],
   "source": [
    "'name' in student.keys()"
   ]
  },
  {
   "cell_type": "code",
   "execution_count": 74,
   "id": "e637865d",
   "metadata": {},
   "outputs": [
    {
     "data": {
      "text/plain": [
       "False"
      ]
     },
     "execution_count": 74,
     "metadata": {},
     "output_type": "execute_result"
    }
   ],
   "source": [
    "'fruit' in student.keys()"
   ]
  },
  {
   "cell_type": "code",
   "execution_count": 78,
   "id": "4cbf3cdb",
   "metadata": {},
   "outputs": [
    {
     "data": {
      "text/plain": [
       "True"
      ]
     },
     "execution_count": 78,
     "metadata": {},
     "output_type": "execute_result"
    }
   ],
   "source": [
    "'game' in student.values()"
   ]
  },
  {
   "cell_type": "code",
   "execution_count": 79,
   "id": "00cd7790",
   "metadata": {},
   "outputs": [
    {
     "name": "stdout",
     "output_type": "stream",
     "text": [
      "name Amy\n",
      "hobby game\n"
     ]
    }
   ],
   "source": [
    "for i,j in student.items():\n",
    "    print(i,j)"
   ]
  },
  {
   "cell_type": "markdown",
   "id": "5af03eab",
   "metadata": {},
   "source": [
    "#13 –2 번 \n",
    "\n",
    "모스부호  \n",
    "\n",
    "문자열 letter가 주어질 때, letter를 영어 소문자로 바꾼 문자열을 출력 하도록 코드작성\n",
    "\n",
    "모스부호는 다음과 같습니다. \n",
    "\n",
    "morse = { \n",
    "\n",
    "    '.-':'a','-...':'b','-.-.':'c','-..':'d','.':'e','..-.':'f', \n",
    "\n",
    "    '--.':'g','....':'h','..':'i','.---':'j','-.-':'k','.-..':'l', \n",
    "\n",
    "    '--':'m','-.':'n','---':'o','.--.':'p','--.-':'q','.-.':'r', \n",
    "\n",
    "    '...':'s','-':'t','..-':'u','...-':'v','.--':'w','-..-':'x', \n",
    "\n",
    "    '-.--':'y','--..':'z' \n",
    "\n",
    "}  \n",
    "\n",
    "입출력 예 \n",
    "\n",
    "letter  result \n",
    "\n",
    "\".... . .-.. .-.. ---\"  \"hello\" \n",
    "\n",
    "\".--. -.-- - .... --- -.\"   \"python\" "
   ]
  },
  {
   "cell_type": "code",
   "execution_count": 80,
   "id": "5aac0678",
   "metadata": {},
   "outputs": [],
   "source": [
    "morse = { \n",
    "\n",
    "    '.-':'a','-...':'b','-.-.':'c','-..':'d','.':'e','..-.':'f', \n",
    "\n",
    "    '--.':'g','....':'h','..':'i','.---':'j','-.-':'k','.-..':'l', \n",
    "\n",
    "    '--':'m','-.':'n','---':'o','.--.':'p','--.-':'q','.-.':'r', \n",
    "\n",
    "    '...':'s','-':'t','..-':'u','...-':'v','.--':'w','-..-':'x', \n",
    "\n",
    "    '-.--':'y','--..':'z' \n",
    "\n",
    "} \n",
    "\n",
    " "
   ]
  },
  {
   "cell_type": "code",
   "execution_count": 82,
   "id": "3132bf00",
   "metadata": {},
   "outputs": [
    {
     "name": "stdout",
     "output_type": "stream",
     "text": [
      ".- a\n",
      "-... b\n",
      "-.-. c\n",
      "-.. d\n",
      ". e\n",
      "..-. f\n",
      "--. g\n",
      ".... h\n",
      ".. i\n",
      ".--- j\n",
      "-.- k\n",
      ".-.. l\n",
      "-- m\n",
      "-. n\n",
      "--- o\n",
      ".--. p\n",
      "--.- q\n",
      ".-. r\n",
      "... s\n",
      "- t\n",
      "..- u\n",
      "...- v\n",
      ".-- w\n",
      "-..- x\n",
      "-.-- y\n",
      "--.. z\n"
     ]
    }
   ],
   "source": [
    "for i,j in morse.items():\n",
    "    print(i,j)\n",
    "    \n"
   ]
  },
  {
   "cell_type": "code",
   "execution_count": 87,
   "id": "a0dc13d3",
   "metadata": {},
   "outputs": [
    {
     "name": "stdout",
     "output_type": "stream",
     "text": [
      "hello"
     ]
    }
   ],
   "source": [
    "morse_input = input(\"모스부호를 입력해 주세요.\").split(' ')\n",
    "for i in morse_input:\n",
    "    print(morse[i], end=\"\")"
   ]
  },
  {
   "cell_type": "code",
   "execution_count": 90,
   "id": "0232c0dd",
   "metadata": {},
   "outputs": [
    {
     "name": "stdout",
     "output_type": "stream",
     "text": [
      "hello\n"
     ]
    }
   ],
   "source": [
    "letter = \".... . .-.. .-.. ---\"\n",
    "a = letter.split()\n",
    "answer = ''\n",
    "for i in a:\n",
    "    answer += morse[i]\n",
    "print(answer)"
   ]
  },
  {
   "cell_type": "markdown",
   "id": "2ff30b0a",
   "metadata": {},
   "source": [
    "세트"
   ]
  },
  {
   "cell_type": "code",
   "execution_count": 95,
   "id": "57c57570",
   "metadata": {},
   "outputs": [],
   "source": [
    "set = {1,2,3,4,2,3}"
   ]
  },
  {
   "cell_type": "code",
   "execution_count": 96,
   "id": "362a3d9a",
   "metadata": {},
   "outputs": [
    {
     "data": {
      "text/plain": [
       "set"
      ]
     },
     "execution_count": 96,
     "metadata": {},
     "output_type": "execute_result"
    }
   ],
   "source": [
    "type(set)"
   ]
  },
  {
   "cell_type": "code",
   "execution_count": 1,
   "id": "81963476",
   "metadata": {},
   "outputs": [],
   "source": [
    "s1={1,2,2,3,4,2,3}"
   ]
  },
  {
   "cell_type": "code",
   "execution_count": 2,
   "id": "93004cc0",
   "metadata": {},
   "outputs": [
    {
     "data": {
      "text/plain": [
       "{1, 2, 3, 4}"
      ]
     },
     "execution_count": 2,
     "metadata": {},
     "output_type": "execute_result"
    }
   ],
   "source": [
    "s1"
   ]
  },
  {
   "cell_type": "code",
   "execution_count": 3,
   "id": "530ae6b5",
   "metadata": {},
   "outputs": [],
   "source": [
    "my_list = [ 1, 2, 3, 5, 1, 2, 3]"
   ]
  },
  {
   "cell_type": "code",
   "execution_count": 4,
   "id": "895ff6b9",
   "metadata": {},
   "outputs": [
    {
     "data": {
      "text/plain": [
       "[1, 2, 3, 5, 1, 2, 3]"
      ]
     },
     "execution_count": 4,
     "metadata": {},
     "output_type": "execute_result"
    }
   ],
   "source": [
    "my_list"
   ]
  },
  {
   "cell_type": "code",
   "execution_count": 5,
   "id": "d8e57f44",
   "metadata": {},
   "outputs": [
    {
     "data": {
      "text/plain": [
       "{1, 2, 3, 5}"
      ]
     },
     "execution_count": 5,
     "metadata": {},
     "output_type": "execute_result"
    }
   ],
   "source": [
    "set(my_list)"
   ]
  },
  {
   "cell_type": "code",
   "execution_count": 6,
   "id": "d13843da",
   "metadata": {},
   "outputs": [
    {
     "data": {
      "text/plain": [
       "[1, 2, 3, 5, 1, 2, 3]"
      ]
     },
     "execution_count": 6,
     "metadata": {},
     "output_type": "execute_result"
    }
   ],
   "source": [
    "my_list"
   ]
  },
  {
   "cell_type": "code",
   "execution_count": 7,
   "id": "b945893e",
   "metadata": {},
   "outputs": [],
   "source": [
    "a = {1, 2, 3, 4}\n",
    "b = {3, 4, 5, 6}"
   ]
  },
  {
   "cell_type": "code",
   "execution_count": 8,
   "id": "9dd44396",
   "metadata": {},
   "outputs": [
    {
     "data": {
      "text/plain": [
       "set"
      ]
     },
     "execution_count": 8,
     "metadata": {},
     "output_type": "execute_result"
    }
   ],
   "source": [
    "type(a)"
   ]
  },
  {
   "cell_type": "code",
   "execution_count": 9,
   "id": "aeeebde6",
   "metadata": {},
   "outputs": [
    {
     "data": {
      "text/plain": [
       "{1, 2}"
      ]
     },
     "execution_count": 9,
     "metadata": {},
     "output_type": "execute_result"
    }
   ],
   "source": [
    "a - b"
   ]
  },
  {
   "cell_type": "code",
   "execution_count": 10,
   "id": "ebbe4966",
   "metadata": {},
   "outputs": [
    {
     "data": {
      "text/plain": [
       "{5, 6}"
      ]
     },
     "execution_count": 10,
     "metadata": {},
     "output_type": "execute_result"
    }
   ],
   "source": [
    "b - a"
   ]
  },
  {
   "cell_type": "code",
   "execution_count": 11,
   "id": "580a93b8",
   "metadata": {},
   "outputs": [
    {
     "data": {
      "text/plain": [
       "{1, 2}"
      ]
     },
     "execution_count": 11,
     "metadata": {},
     "output_type": "execute_result"
    }
   ],
   "source": [
    "a.difference(b)"
   ]
  },
  {
   "cell_type": "code",
   "execution_count": 12,
   "id": "2fbfee29",
   "metadata": {},
   "outputs": [
    {
     "data": {
      "text/plain": [
       "{1, 2, 3, 4, 5, 6}"
      ]
     },
     "execution_count": 12,
     "metadata": {},
     "output_type": "execute_result"
    }
   ],
   "source": [
    "a.union(b)"
   ]
  },
  {
   "cell_type": "code",
   "execution_count": 13,
   "id": "863a113e",
   "metadata": {},
   "outputs": [
    {
     "data": {
      "text/plain": [
       "{3, 4}"
      ]
     },
     "execution_count": 13,
     "metadata": {},
     "output_type": "execute_result"
    }
   ],
   "source": [
    "a.intersection(b)"
   ]
  },
  {
   "cell_type": "markdown",
   "id": "21c13d23",
   "metadata": {},
   "source": [
    "튜플"
   ]
  },
  {
   "cell_type": "code",
   "execution_count": 14,
   "id": "87ff906a",
   "metadata": {},
   "outputs": [],
   "source": [
    "t = (1, 2, 3, 'a')"
   ]
  },
  {
   "cell_type": "code",
   "execution_count": 15,
   "id": "1b27e582",
   "metadata": {},
   "outputs": [
    {
     "data": {
      "text/plain": [
       "tuple"
      ]
     },
     "execution_count": 15,
     "metadata": {},
     "output_type": "execute_result"
    }
   ],
   "source": [
    "type(t)"
   ]
  },
  {
   "cell_type": "code",
   "execution_count": 17,
   "id": "f665cf0a",
   "metadata": {},
   "outputs": [
    {
     "data": {
      "text/plain": [
       "3"
      ]
     },
     "execution_count": 17,
     "metadata": {},
     "output_type": "execute_result"
    }
   ],
   "source": [
    "t[2]"
   ]
  },
  {
   "cell_type": "code",
   "execution_count": 18,
   "id": "d08a826c",
   "metadata": {},
   "outputs": [],
   "source": [
    "rawdata = (1, 2, 3, 4, )"
   ]
  },
  {
   "cell_type": "code",
   "execution_count": 19,
   "id": "a5812bdc",
   "metadata": {},
   "outputs": [
    {
     "data": {
      "text/plain": [
       "tuple"
      ]
     },
     "execution_count": 19,
     "metadata": {},
     "output_type": "execute_result"
    }
   ],
   "source": [
    "type(rawdata)"
   ]
  },
  {
   "cell_type": "code",
   "execution_count": 20,
   "id": "2a4f6a79",
   "metadata": {},
   "outputs": [],
   "source": [
    "rawdata = (1, 2, 3, 4, 5,)"
   ]
  },
  {
   "cell_type": "code",
   "execution_count": 21,
   "id": "7caee0b0",
   "metadata": {},
   "outputs": [
    {
     "data": {
      "text/plain": [
       "(1, 2, 3, 4, 5)"
      ]
     },
     "execution_count": 21,
     "metadata": {},
     "output_type": "execute_result"
    }
   ],
   "source": [
    "rawdata"
   ]
  },
  {
   "cell_type": "code",
   "execution_count": 22,
   "id": "f87b0503",
   "metadata": {},
   "outputs": [
    {
     "data": {
      "text/plain": [
       "1"
      ]
     },
     "execution_count": 22,
     "metadata": {},
     "output_type": "execute_result"
    }
   ],
   "source": [
    "rawdata[0]"
   ]
  },
  {
   "cell_type": "code",
   "execution_count": 23,
   "id": "3ab83078",
   "metadata": {},
   "outputs": [],
   "source": [
    "#빼빼로데이\n",
    "# 빼빼로의 종류는 6가지 맛('누드초코', '아몬드', '초코', '크런키', '크림치즈', '화이트쿠키')이 있었습니다.\n",
    "# 이벤트 빼빼로는 한가지 맛에 하나만 구매할 수 있습니다.구매한 빼빼로를 오름차순으로 정렬하여 결과를 나타내 주세요.\n",
    "\n",
    "#입력1\n",
    "#[\"초코\", \"누드초코\", \"크런키\", \"아몬드\", \"초코\", \"누드초코\", \"아몬드\", \"화이트쿠키\", \"초코\", \"초코\"]\n",
    "\n",
    "#출력1\n",
    "#['누드초코', '아몬드', '초코', '크런키', '화이트쿠키']\n",
    "pepero = {\"초코\", \"누드초코\", \"크런키\", \"아몬드\", \"초코\", \"누드초코\", \"아몬드\", \"화이트쿠키\", \"초코\", \"초코\"}"
   ]
  },
  {
   "cell_type": "code",
   "execution_count": 25,
   "id": "a65fc48b",
   "metadata": {},
   "outputs": [
    {
     "data": {
      "text/plain": [
       "{'누드초코', '아몬드', '초코', '크런키', '화이트쿠키'}"
      ]
     },
     "execution_count": 25,
     "metadata": {},
     "output_type": "execute_result"
    }
   ],
   "source": [
    "pepero"
   ]
  },
  {
   "cell_type": "code",
   "execution_count": 26,
   "id": "520e685c",
   "metadata": {},
   "outputs": [
    {
     "data": {
      "text/plain": [
       "{'누드초코', '아몬드', '초코', '크런키', '화이트쿠키'}"
      ]
     },
     "execution_count": 26,
     "metadata": {},
     "output_type": "execute_result"
    }
   ],
   "source": [
    "pepero = [\"초코\", \"누드초코\", \"크런키\", \"아몬드\", \"초코\", \"누드초코\", \"아몬드\", \"화이트쿠키\", \"초코\", \"초코\"]\n",
    "set(pepero)"
   ]
  },
  {
   "cell_type": "code",
   "execution_count": 27,
   "id": "4249082c",
   "metadata": {},
   "outputs": [],
   "source": [
    "pepero = [\"초코\", \"누드초코\", \"크런키\", \"아몬드\", \"초코\", \"누드초코\", \"아몬드\", \"화이트쿠키\", \"초코\", \"초코\"]\n",
    "answer = set(pepero)"
   ]
  },
  {
   "cell_type": "code",
   "execution_count": 28,
   "id": "79d06e28",
   "metadata": {},
   "outputs": [
    {
     "data": {
      "text/plain": [
       "{'누드초코', '아몬드', '초코', '크런키', '화이트쿠키'}"
      ]
     },
     "execution_count": 28,
     "metadata": {},
     "output_type": "execute_result"
    }
   ],
   "source": [
    "answer"
   ]
  },
  {
   "cell_type": "code",
   "execution_count": 29,
   "id": "23775684",
   "metadata": {},
   "outputs": [],
   "source": [
    "answer = list(set(pepero))"
   ]
  },
  {
   "cell_type": "code",
   "execution_count": 32,
   "id": "562689e5",
   "metadata": {},
   "outputs": [
    {
     "data": {
      "text/plain": [
       "['누드초코', '아몬드', '초코', '크런키', '화이트쿠키']"
      ]
     },
     "execution_count": 32,
     "metadata": {},
     "output_type": "execute_result"
    }
   ],
   "source": [
    "answer.sort()\n",
    "answer"
   ]
  },
  {
   "cell_type": "code",
   "execution_count": 41,
   "id": "e2fa23cd",
   "metadata": {},
   "outputs": [
    {
     "data": {
      "text/plain": [
       "list"
      ]
     },
     "execution_count": 41,
     "metadata": {},
     "output_type": "execute_result"
    }
   ],
   "source": [
    "#입력1\n",
    "#\"culture experience symbol symbol education symbol effect education affair liberty liberty affair\"\n",
    "\n",
    "#출력1\n",
    "#7\n",
    "\n",
    "w1 = ['culture', 'experience', 'symbol', 'symbol', 'education', 'symbol', 'effect', 'education', 'affair', 'liberty', 'liberty', 'affair']\n",
    "type(w1)\n"
   ]
  },
  {
   "cell_type": "code",
   "execution_count": null,
   "id": "9d78f29c",
   "metadata": {},
   "outputs": [
    {
     "ename": "NameError",
     "evalue": "name 'w1' is not defined",
     "output_type": "error",
     "traceback": [
      "\u001b[31m---------------------------------------------------------------------------\u001b[39m",
      "\u001b[31mNameError\u001b[39m                                 Traceback (most recent call last)",
      "\u001b[36mCell\u001b[39m\u001b[36m \u001b[39m\u001b[32mIn[37]\u001b[39m\u001b[32m, line 1\u001b[39m\n\u001b[32m----> \u001b[39m\u001b[32m1\u001b[39m \u001b[38;5;28mtype\u001b[39m(\u001b[43mw1\u001b[49m)\n",
      "\u001b[31mNameError\u001b[39m: name 'w1' is not defined"
     ]
    }
   ],
   "source": []
  },
  {
   "cell_type": "code",
   "execution_count": 40,
   "id": "e123f85f",
   "metadata": {},
   "outputs": [
    {
     "data": {
      "text/plain": [
       "7"
      ]
     },
     "execution_count": 40,
     "metadata": {},
     "output_type": "execute_result"
    }
   ],
   "source": [
    "w1 = ['culture', 'experience', 'symbol', 'symbol', 'education', 'symbol', 'effect', 'education', 'affair', 'liberty', 'liberty', 'affair']\n",
    "\n",
    "answer = len(set(w1))\n",
    "\n",
    "answer"
   ]
  },
  {
   "cell_type": "code",
   "execution_count": 43,
   "id": "fc151333",
   "metadata": {},
   "outputs": [
    {
     "data": {
      "text/plain": [
       "7"
      ]
     },
     "execution_count": 43,
     "metadata": {},
     "output_type": "execute_result"
    }
   ],
   "source": [
    "words = \"culture experience symbol symbol education symbol effect education affair liberty liberty affair\"\n",
    "len(set(words.split()))\n"
   ]
  },
  {
   "cell_type": "markdown",
   "id": "2e4e398a",
   "metadata": {},
   "source": [
    "함수 https://docs.python.org/ko/3/library/functions.html"
   ]
  },
  {
   "cell_type": "code",
   "execution_count": 47,
   "id": "386fdd12",
   "metadata": {},
   "outputs": [],
   "source": [
    "def my_function(a) :\n",
    "    print(f'{a}, 내가 만든 함수입니다')"
   ]
  },
  {
   "cell_type": "code",
   "execution_count": 48,
   "id": "3c27cd7d",
   "metadata": {},
   "outputs": [
    {
     "name": "stdout",
     "output_type": "stream",
     "text": [
      "Hey, 내가 만든 함수입니다\n"
     ]
    }
   ],
   "source": [
    "my_function('Hey')"
   ]
  },
  {
   "cell_type": "code",
   "execution_count": 52,
   "id": "4114e016",
   "metadata": {},
   "outputs": [],
   "source": [
    "def my_sum(a, b):\n",
    "    result = a + b\n",
    "    return result"
   ]
  },
  {
   "cell_type": "code",
   "execution_count": 55,
   "id": "c7ef59d7",
   "metadata": {},
   "outputs": [
    {
     "data": {
      "text/plain": [
       "7"
      ]
     },
     "execution_count": 55,
     "metadata": {},
     "output_type": "execute_result"
    }
   ],
   "source": [
    "my_sum(3, 4)"
   ]
  },
  {
   "cell_type": "code",
   "execution_count": 58,
   "id": "85e49980",
   "metadata": {},
   "outputs": [
    {
     "name": "stdout",
     "output_type": "stream",
     "text": [
      "7 11\n"
     ]
    }
   ],
   "source": [
    "num1 = my_sum(3,4)\n",
    "num2 = my_sum(7,4)\n",
    "\n",
    "print(num1, num2)"
   ]
  },
  {
   "cell_type": "code",
   "execution_count": 60,
   "id": "25b26eb3",
   "metadata": {},
   "outputs": [],
   "source": [
    "# 세 개의 숫자를 입력받아서 함수 결과 12 출력\n",
    "def max_num(a, b, c):\n",
    "    max1 = a\n",
    "    if b > max1:\n",
    "        max1 = b\n",
    "    if c > max1:\n",
    "        max1 = c\n",
    "    return max1\n"
   ]
  },
  {
   "cell_type": "code",
   "execution_count": 62,
   "id": "f8dd2556",
   "metadata": {},
   "outputs": [
    {
     "data": {
      "text/plain": [
       "12"
      ]
     },
     "execution_count": 62,
     "metadata": {},
     "output_type": "execute_result"
    }
   ],
   "source": [
    "num = max_num(-3, 12, -1)\n",
    "num"
   ]
  },
  {
   "cell_type": "code",
   "execution_count": 71,
   "id": "5b7b155e",
   "metadata": {},
   "outputs": [],
   "source": [
    "# 세 개의 숫자를 입력받아서 함수 결과 24 출력\n",
    "\n",
    "def min_num(a, b, c):\n",
    "    min2 = a\n",
    "    if b < min2:\n",
    "        min2 = b\n",
    "    if c < min2:\n",
    "        min2 = c\n",
    "    return min2\n"
   ]
  },
  {
   "cell_type": "code",
   "execution_count": 72,
   "id": "90d70142",
   "metadata": {},
   "outputs": [
    {
     "data": {
      "text/plain": [
       "24"
      ]
     },
     "execution_count": 72,
     "metadata": {},
     "output_type": "execute_result"
    }
   ],
   "source": [
    "num = min_num(26, 132, 24)\n",
    "num"
   ]
  },
  {
   "cell_type": "markdown",
   "id": "f5466cd4",
   "metadata": {},
   "source": [
    "17:00 ~ 17:35 수업 누락\n",
    "17:35 ~ 17:49 ptint 함수 설명 들음, 리턴 밸류 1개? 2개? 구분"
   ]
  }
 ],
 "metadata": {
  "kernelspec": {
   "display_name": "Python 3",
   "language": "python",
   "name": "python3"
  },
  "language_info": {
   "codemirror_mode": {
    "name": "ipython",
    "version": 3
   },
   "file_extension": ".py",
   "mimetype": "text/x-python",
   "name": "python",
   "nbconvert_exporter": "python",
   "pygments_lexer": "ipython3",
   "version": "3.11.8"
  }
 },
 "nbformat": 4,
 "nbformat_minor": 5
}
