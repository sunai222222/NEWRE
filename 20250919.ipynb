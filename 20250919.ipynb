{
 "cells": [
  {
   "cell_type": "code",
   "execution_count": 1,
   "id": "caf60205",
   "metadata": {},
   "outputs": [
    {
     "name": "stdout",
     "output_type": "stream",
     "text": [
      "안녕 이제 파이썬을 시작하려고 해\n"
     ]
    }
   ],
   "source": [
    "print(\"안녕 이제 파이썬을 시작하려고 해\")"
   ]
  },
  {
   "cell_type": "code",
   "execution_count": 2,
   "id": "616b32cc",
   "metadata": {},
   "outputs": [
    {
     "ename": "NameError",
     "evalue": "name 'hello' is not defined",
     "output_type": "error",
     "traceback": [
      "\u001b[31m---------------------------------------------------------------------------\u001b[39m",
      "\u001b[31mNameError\u001b[39m                                 Traceback (most recent call last)",
      "\u001b[36mCell\u001b[39m\u001b[36m \u001b[39m\u001b[32mIn[2]\u001b[39m\u001b[32m, line 1\u001b[39m\n\u001b[32m----> \u001b[39m\u001b[32m1\u001b[39m \u001b[43mhello\u001b[49m\n",
      "\u001b[31mNameError\u001b[39m: name 'hello' is not defined"
     ]
    }
   ],
   "source": [
    "hello"
   ]
  },
  {
   "cell_type": "code",
   "execution_count": 3,
   "id": "b5a31d37",
   "metadata": {},
   "outputs": [
    {
     "data": {
      "text/plain": [
       "str"
      ]
     },
     "execution_count": 3,
     "metadata": {},
     "output_type": "execute_result"
    }
   ],
   "source": [
    "type('hi')"
   ]
  },
  {
   "cell_type": "code",
   "execution_count": 4,
   "id": "72601c9d",
   "metadata": {},
   "outputs": [
    {
     "data": {
      "text/plain": [
       "int"
      ]
     },
     "execution_count": 4,
     "metadata": {},
     "output_type": "execute_result"
    }
   ],
   "source": [
    "type(100)"
   ]
  },
  {
   "cell_type": "code",
   "execution_count": 5,
   "id": "72641df5",
   "metadata": {},
   "outputs": [
    {
     "data": {
      "text/plain": [
       "str"
      ]
     },
     "execution_count": 5,
     "metadata": {},
     "output_type": "execute_result"
    }
   ],
   "source": [
    "type('100')"
   ]
  },
  {
   "cell_type": "code",
   "execution_count": 6,
   "id": "a2fc2add",
   "metadata": {},
   "outputs": [
    {
     "name": "stdout",
     "output_type": "stream",
     "text": [
      "100\n"
     ]
    }
   ],
   "source": [
    "mynumber=100\n",
    "print(mynumber)"
   ]
  },
  {
   "cell_type": "code",
   "execution_count": 7,
   "id": "956c9acc",
   "metadata": {},
   "outputs": [
    {
     "data": {
      "text/plain": [
       "110"
      ]
     },
     "execution_count": 7,
     "metadata": {},
     "output_type": "execute_result"
    }
   ],
   "source": [
    "mynumber+10"
   ]
  },
  {
   "cell_type": "code",
   "execution_count": 12,
   "id": "6d1cf130",
   "metadata": {},
   "outputs": [
    {
     "name": "stdout",
     "output_type": "stream",
     "text": [
      "20.5\n"
     ]
    }
   ],
   "source": [
    "hernumber=10.5\n",
    "print(hernumber+10)"
   ]
  },
  {
   "cell_type": "code",
   "execution_count": 14,
   "id": "3645ffa1",
   "metadata": {},
   "outputs": [
    {
     "data": {
      "text/plain": [
       "float"
      ]
     },
     "execution_count": 14,
     "metadata": {},
     "output_type": "execute_result"
    }
   ],
   "source": [
    "type(hernumber)"
   ]
  },
  {
   "cell_type": "code",
   "execution_count": 15,
   "id": "587aaa77",
   "metadata": {},
   "outputs": [
    {
     "data": {
      "text/plain": [
       "int"
      ]
     },
     "execution_count": 15,
     "metadata": {},
     "output_type": "execute_result"
    }
   ],
   "source": [
    "type(mynumber)"
   ]
  },
  {
   "cell_type": "code",
   "execution_count": 16,
   "id": "7cd46204",
   "metadata": {},
   "outputs": [
    {
     "data": {
      "text/plain": [
       "2.2"
      ]
     },
     "execution_count": 16,
     "metadata": {},
     "output_type": "execute_result"
    }
   ],
   "source": [
    "num1 = 10\n",
    "num2 = 22\n",
    "num2/num1"
   ]
  },
  {
   "cell_type": "code",
   "execution_count": 17,
   "id": "993e59f0",
   "metadata": {},
   "outputs": [
    {
     "data": {
      "text/plain": [
       "2"
      ]
     },
     "execution_count": 17,
     "metadata": {},
     "output_type": "execute_result"
    }
   ],
   "source": [
    "num2//num1"
   ]
  },
  {
   "cell_type": "code",
   "execution_count": 18,
   "id": "dd88f604",
   "metadata": {},
   "outputs": [
    {
     "data": {
      "text/plain": [
       "10000000000000000000000"
      ]
     },
     "execution_count": 18,
     "metadata": {},
     "output_type": "execute_result"
    }
   ],
   "source": [
    "num1**num2"
   ]
  },
  {
   "cell_type": "code",
   "execution_count": 19,
   "id": "ffc23db8",
   "metadata": {},
   "outputs": [
    {
     "data": {
      "text/plain": [
       "220"
      ]
     },
     "execution_count": 19,
     "metadata": {},
     "output_type": "execute_result"
    }
   ],
   "source": [
    "num1*num2"
   ]
  },
  {
   "cell_type": "code",
   "execution_count": 20,
   "id": "f90a8c03",
   "metadata": {},
   "outputs": [
    {
     "data": {
      "text/plain": [
       "2"
      ]
     },
     "execution_count": 20,
     "metadata": {},
     "output_type": "execute_result"
    }
   ],
   "source": [
    "num2%num1"
   ]
  },
  {
   "cell_type": "code",
   "execution_count": 21,
   "id": "07b6ef06",
   "metadata": {},
   "outputs": [
    {
     "data": {
      "text/plain": [
       "8"
      ]
     },
     "execution_count": 21,
     "metadata": {},
     "output_type": "execute_result"
    }
   ],
   "source": [
    "2**3"
   ]
  },
  {
   "cell_type": "code",
   "execution_count": 22,
   "id": "4a2ed4b5",
   "metadata": {},
   "outputs": [
    {
     "data": {
      "text/plain": [
       "'worldworld'"
      ]
     },
     "execution_count": 22,
     "metadata": {},
     "output_type": "execute_result"
    }
   ],
   "source": [
    "num1 = 2\n",
    "str1 = \"hello\"\n",
    "str2= \"world\"\n",
    "str2 * num1"
   ]
  },
  {
   "cell_type": "code",
   "execution_count": 23,
   "id": "05babb71",
   "metadata": {},
   "outputs": [
    {
     "data": {
      "text/plain": [
       "'worldworld'"
      ]
     },
     "execution_count": 23,
     "metadata": {},
     "output_type": "execute_result"
    }
   ],
   "source": [
    "num1* str2"
   ]
  },
  {
   "cell_type": "code",
   "execution_count": 24,
   "id": "97b72306",
   "metadata": {},
   "outputs": [
    {
     "data": {
      "text/plain": [
       "'helloworld'"
      ]
     },
     "execution_count": 24,
     "metadata": {},
     "output_type": "execute_result"
    }
   ],
   "source": [
    "str1 + str2"
   ]
  },
  {
   "cell_type": "code",
   "execution_count": 25,
   "id": "48c94105",
   "metadata": {},
   "outputs": [
    {
     "data": {
      "text/plain": [
       "True"
      ]
     },
     "execution_count": 25,
     "metadata": {},
     "output_type": "execute_result"
    }
   ],
   "source": [
    "#비교 연산자\n",
    "mynumber = 100\n",
    "mynumber > 10"
   ]
  },
  {
   "cell_type": "code",
   "execution_count": 26,
   "id": "4fa4e289",
   "metadata": {},
   "outputs": [
    {
     "data": {
      "text/plain": [
       "True"
      ]
     },
     "execution_count": 26,
     "metadata": {},
     "output_type": "execute_result"
    }
   ],
   "source": [
    "5!=7"
   ]
  },
  {
   "cell_type": "code",
   "execution_count": 27,
   "id": "311ba6f0",
   "metadata": {},
   "outputs": [],
   "source": [
    "str1 = \"hello\"\n",
    "str2= \"world\""
   ]
  },
  {
   "cell_type": "code",
   "execution_count": 28,
   "id": "6f54e8f6",
   "metadata": {},
   "outputs": [
    {
     "name": "stdout",
     "output_type": "stream",
     "text": [
      "helloworld\n"
     ]
    }
   ],
   "source": [
    "print(str1 + str2)"
   ]
  },
  {
   "cell_type": "code",
   "execution_count": 30,
   "id": "c9511fde",
   "metadata": {},
   "outputs": [
    {
     "name": "stdout",
     "output_type": "stream",
     "text": [
      "hello world\n"
     ]
    }
   ],
   "source": [
    "print(str1 + \" \" + str2)"
   ]
  },
  {
   "cell_type": "code",
   "execution_count": 31,
   "id": "ab02b771",
   "metadata": {},
   "outputs": [
    {
     "name": "stdout",
     "output_type": "stream",
     "text": [
      "hello world\n"
     ]
    }
   ],
   "source": [
    "print(str1, str2)"
   ]
  },
  {
   "cell_type": "code",
   "execution_count": 32,
   "id": "24317d23",
   "metadata": {},
   "outputs": [
    {
     "data": {
      "text/plain": [
       "'안녕'"
      ]
     },
     "execution_count": 32,
     "metadata": {},
     "output_type": "execute_result"
    }
   ],
   "source": [
    "input()"
   ]
  },
  {
   "cell_type": "code",
   "execution_count": 34,
   "id": "9462cfd6",
   "metadata": {},
   "outputs": [
    {
     "name": "stdout",
     "output_type": "stream",
     "text": [
      "제 이름은 홍길동 입니다\n"
     ]
    }
   ],
   "source": [
    "name = input()\n",
    "print(\"제 이름은\", name,\"입니다\")"
   ]
  },
  {
   "cell_type": "code",
   "execution_count": 35,
   "id": "e385a827",
   "metadata": {},
   "outputs": [],
   "source": [
    "num1 = 7\n",
    "num2 = 3"
   ]
  },
  {
   "cell_type": "code",
   "execution_count": 41,
   "id": "1b425ea4",
   "metadata": {},
   "outputs": [
    {
     "name": "stdout",
     "output_type": "stream",
     "text": [
      "73\n"
     ]
    },
    {
     "ename": "TypeError",
     "evalue": "unsupported operand type(s) for -: 'str' and 'str'",
     "output_type": "error",
     "traceback": [
      "\u001b[31m---------------------------------------------------------------------------\u001b[39m",
      "\u001b[31mTypeError\u001b[39m                                 Traceback (most recent call last)",
      "\u001b[36mCell\u001b[39m\u001b[36m \u001b[39m\u001b[32mIn[41]\u001b[39m\u001b[32m, line 5\u001b[39m\n\u001b[32m      2\u001b[39m num2 = \u001b[38;5;28minput\u001b[39m(\u001b[33m\"\u001b[39m\u001b[33m두 번째 숫자를 입력하세요: \u001b[39m\u001b[33m\"\u001b[39m)\n\u001b[32m      4\u001b[39m \u001b[38;5;28mprint\u001b[39m(num1 + num2)\n\u001b[32m----> \u001b[39m\u001b[32m5\u001b[39m \u001b[38;5;28mprint\u001b[39m(\u001b[43mnum1\u001b[49m\u001b[43m \u001b[49m\u001b[43m-\u001b[49m\u001b[43m \u001b[49m\u001b[43mnum2\u001b[49m)\n\u001b[32m      6\u001b[39m \u001b[38;5;28mprint\u001b[39m(num1 * num2)\n\u001b[32m      7\u001b[39m \u001b[38;5;28mprint\u001b[39m(num1 / num2)\n",
      "\u001b[31mTypeError\u001b[39m: unsupported operand type(s) for -: 'str' and 'str'"
     ]
    }
   ],
   "source": [
    "num1 = input(\"첫 번째 숫자를 입력하세요: \")\n",
    "num2 = input(\"두 번째 숫자를 입력하세요: \")\n",
    "\n",
    "print(num1 + num2)\n",
    "print(num1 - num2)\n",
    "print(num1 * num2)\n",
    "print(num1 / num2)"
   ]
  },
  {
   "cell_type": "code",
   "execution_count": 38,
   "id": "408b17c3",
   "metadata": {},
   "outputs": [
    {
     "data": {
      "text/plain": [
       "str"
      ]
     },
     "execution_count": 38,
     "metadata": {},
     "output_type": "execute_result"
    }
   ],
   "source": [
    "type(num1)"
   ]
  },
  {
   "cell_type": "code",
   "execution_count": 39,
   "id": "d701ad27",
   "metadata": {},
   "outputs": [
    {
     "data": {
      "text/plain": [
       "str"
      ]
     },
     "execution_count": 39,
     "metadata": {},
     "output_type": "execute_result"
    }
   ],
   "source": [
    "type(num2)"
   ]
  },
  {
   "cell_type": "code",
   "execution_count": 45,
   "id": "12f0ea5b",
   "metadata": {},
   "outputs": [
    {
     "name": "stdout",
     "output_type": "stream",
     "text": [
      "10\n",
      "4\n",
      "21\n",
      "2.3333333333333335\n",
      "나눗셈 결과: 2.3333333333333335\n",
      "몫: 2\n",
      "나머지: 1\n"
     ]
    }
   ],
   "source": [
    "num1 = int(input(\"첫 번째 숫자를 입력하세요: \"))\n",
    "num2 = int(input(\"두 번째 숫자를 입력하세요: \"))\n",
    "\n",
    "print(num1 + num2)\n",
    "print(num1 - num2)\n",
    "print(num1 * num2)\n",
    "print(num1 / num2)\n",
    "# 나눗셈은 0으로 나누는 오류 방지\n",
    "if num2 != 0:\n",
    "    print(\"나눗셈 결과:\", num1 / num2)\n",
    "    print(\"몫:\", num1 // num2)\n",
    "    print(\"나머지:\", num1 % num2)\n",
    "else:\n",
    "    print(\"0으로 나눌 수 없습니다.\")\n"
   ]
  },
  {
   "cell_type": "code",
   "execution_count": 47,
   "id": "3073a970",
   "metadata": {},
   "outputs": [
    {
     "name": "stdout",
     "output_type": "stream",
     "text": [
      "선생님이\"참잘했어요\"칭찬했다\n"
     ]
    }
   ],
   "source": [
    "print(\"선생님이\\\"참잘했어요\\\"칭찬했다\")"
   ]
  },
  {
   "cell_type": "code",
   "execution_count": 51,
   "id": "899fd6e5",
   "metadata": {},
   "outputs": [],
   "source": [
    "sentence = \"\"\"\n",
    "안녕\n",
    "좋은아침\n",
    "잘가\n",
    "\"\"\""
   ]
  },
  {
   "cell_type": "code",
   "execution_count": 52,
   "id": "2052a54e",
   "metadata": {},
   "outputs": [
    {
     "name": "stdout",
     "output_type": "stream",
     "text": [
      "\n",
      "안녕\n",
      "좋은아침\n",
      "잘가\n",
      "\n"
     ]
    }
   ],
   "source": [
    "print(sentence)"
   ]
  },
  {
   "cell_type": "code",
   "execution_count": 53,
   "id": "3940b658",
   "metadata": {},
   "outputs": [
    {
     "name": "stdout",
     "output_type": "stream",
     "text": [
      "'낮말'은 새가 듣고 '밤말'은 쥐가 듣는다\n"
     ]
    }
   ],
   "source": [
    "print(\"'낮말'은 새가 듣고 '밤말'은 쥐가 듣는다\")"
   ]
  },
  {
   "cell_type": "code",
   "execution_count": 54,
   "id": "db6ba114",
   "metadata": {},
   "outputs": [
    {
     "name": "stdout",
     "output_type": "stream",
     "text": [
      "Hello\n",
      "Hello\n",
      "Hello\n"
     ]
    }
   ],
   "source": [
    "print(\"Hello\")\n",
    "print(\"Hello\")\n",
    "print(\"Hello\")"
   ]
  },
  {
   "cell_type": "code",
   "execution_count": 55,
   "id": "5467f26b",
   "metadata": {},
   "outputs": [
    {
     "name": "stdout",
     "output_type": "stream",
     "text": [
      "HelloHelloHello\n"
     ]
    }
   ],
   "source": [
    "print(\"Hello\" * 3)"
   ]
  },
  {
   "cell_type": "code",
   "execution_count": 56,
   "id": "dc03f119",
   "metadata": {},
   "outputs": [
    {
     "name": "stdout",
     "output_type": "stream",
     "text": [
      "Hello Hello Hello\n"
     ]
    }
   ],
   "source": [
    "print(\"Hello\",\"Hello\",\"Hello\")"
   ]
  },
  {
   "cell_type": "code",
   "execution_count": 57,
   "id": "66834da3",
   "metadata": {},
   "outputs": [
    {
     "name": "stdout",
     "output_type": "stream",
     "text": [
      "Hello,"
     ]
    }
   ],
   "source": [
    "print(\"Hello\", end=\",\")"
   ]
  },
  {
   "cell_type": "code",
   "execution_count": 58,
   "id": "79e28468",
   "metadata": {},
   "outputs": [
    {
     "name": "stdout",
     "output_type": "stream",
     "text": [
      "Hello Hello Hello,"
     ]
    }
   ],
   "source": [
    "print(\"Hello\",\"Hello\",\"Hello\", end=\",\")"
   ]
  },
  {
   "cell_type": "code",
   "execution_count": 60,
   "id": "51ea3784",
   "metadata": {},
   "outputs": [
    {
     "name": "stdout",
     "output_type": "stream",
     "text": [
      "더하기의 결과 : 5 + 6 = 11\n"
     ]
    }
   ],
   "source": [
    "num1 = 5\n",
    "num2 = 6\n",
    "\n",
    "print(f\"더하기의 결과 : {num1} + {num2} = {num1+num2}\")"
   ]
  },
  {
   "cell_type": "code",
   "execution_count": 61,
   "id": "4401d9a7",
   "metadata": {},
   "outputs": [
    {
     "name": "stdout",
     "output_type": "stream",
     "text": [
      "더하기의 결과 : {num1} + {num2} = {num1+num2}\n"
     ]
    }
   ],
   "source": [
    "num1 = 5\n",
    "num2 = 6\n",
    "\n",
    "print(\"더하기의 결과 : {num1} + {num2} = {num1+num2}\")"
   ]
  },
  {
   "cell_type": "code",
   "execution_count": 62,
   "id": "19f95bd1",
   "metadata": {},
   "outputs": [
    {
     "data": {
      "text/plain": [
       "False"
      ]
     },
     "execution_count": 62,
     "metadata": {},
     "output_type": "execute_result"
    }
   ],
   "source": [
    "1==2"
   ]
  },
  {
   "cell_type": "code",
   "execution_count": 63,
   "id": "20c7a8b1",
   "metadata": {},
   "outputs": [
    {
     "data": {
      "text/plain": [
       "bool"
      ]
     },
     "execution_count": 63,
     "metadata": {},
     "output_type": "execute_result"
    }
   ],
   "source": [
    "type(True)"
   ]
  },
  {
   "cell_type": "code",
   "execution_count": 64,
   "id": "26f3d687",
   "metadata": {},
   "outputs": [
    {
     "name": "stdout",
     "output_type": "stream",
     "text": [
      "<class 'bool'>\n"
     ]
    }
   ],
   "source": [
    "print(type(True))"
   ]
  },
  {
   "cell_type": "code",
   "execution_count": 65,
   "id": "27fd553c",
   "metadata": {},
   "outputs": [
    {
     "data": {
      "text/plain": [
       "False"
      ]
     },
     "execution_count": 65,
     "metadata": {},
     "output_type": "execute_result"
    }
   ],
   "source": [
    "bool(0)"
   ]
  },
  {
   "cell_type": "code",
   "execution_count": 66,
   "id": "c4b35536",
   "metadata": {},
   "outputs": [
    {
     "data": {
      "text/plain": [
       "True"
      ]
     },
     "execution_count": 66,
     "metadata": {},
     "output_type": "execute_result"
    }
   ],
   "source": [
    "bool(1)"
   ]
  },
  {
   "cell_type": "code",
   "execution_count": 67,
   "id": "779772ed",
   "metadata": {},
   "outputs": [
    {
     "data": {
      "text/plain": [
       "True"
      ]
     },
     "execution_count": 67,
     "metadata": {},
     "output_type": "execute_result"
    }
   ],
   "source": [
    "bool(100)"
   ]
  },
  {
   "cell_type": "code",
   "execution_count": 68,
   "id": "2113d246",
   "metadata": {},
   "outputs": [
    {
     "data": {
      "text/plain": [
       "True"
      ]
     },
     "execution_count": 68,
     "metadata": {},
     "output_type": "execute_result"
    }
   ],
   "source": [
    "bool(-1)"
   ]
  },
  {
   "cell_type": "code",
   "execution_count": 69,
   "id": "e40eed65",
   "metadata": {},
   "outputs": [
    {
     "data": {
      "text/plain": [
       "False"
      ]
     },
     "execution_count": 69,
     "metadata": {},
     "output_type": "execute_result"
    }
   ],
   "source": [
    "bool('')"
   ]
  },
  {
   "cell_type": "code",
   "execution_count": 70,
   "id": "c8be9330",
   "metadata": {},
   "outputs": [
    {
     "data": {
      "text/plain": [
       "False"
      ]
     },
     "execution_count": 70,
     "metadata": {},
     "output_type": "execute_result"
    }
   ],
   "source": [
    "bool(\"\")"
   ]
  },
  {
   "cell_type": "code",
   "execution_count": 71,
   "id": "6b03d525",
   "metadata": {},
   "outputs": [
    {
     "data": {
      "text/plain": [
       "False"
      ]
     },
     "execution_count": 71,
     "metadata": {},
     "output_type": "execute_result"
    }
   ],
   "source": [
    "bool()"
   ]
  },
  {
   "cell_type": "code",
   "execution_count": null,
   "id": "8a8ff757",
   "metadata": {},
   "outputs": [
    {
     "name": "stdout",
     "output_type": "stream",
     "text": [
      "\n",
      "메뉴판\n",
      "김밥 : 3,000원\n",
      "떢볶이 : 3,500원\n",
      "라면 : 2,500원\n",
      "\n",
      "지불하실 금액은 14500원 입니다.\n"
     ]
    }
   ],
   "source": [
    "menu1 = int(input(\"김밥주문갯수 : \"))\n",
    "menu2 = int(input(\"떢볶이주문갯수 : \"))\n",
    "menu3 = int(input(\"라면주문갯수 : \"))\n",
    "\n",
    "print(f\"\"\"\n",
    "메뉴판\n",
    "김밥 : 3,000원\n",
    "떢볶이 : 3,500원\n",
    "라면 : 2,500원\n",
    "\n",
    "지불하실 금액은 {menu1*3000+menu2*3500+menu3*2500}원 입니다.\"\"\"\"\")"
   ]
  },
  {
   "cell_type": "code",
   "execution_count": 86,
   "id": "ee8b777e",
   "metadata": {},
   "outputs": [
    {
     "name": "stdout",
     "output_type": "stream",
     "text": [
      "메뉴판\n",
      " 김밥 : 3,000원\n",
      " 떢볶이 : 3,500원\n",
      " 라면 : 2,500원\n",
      "주문 갯수 \n",
      " 김밥2+떡볶이1+라면1\n",
      "지불하실 금액은 14500 원 입니다.\n"
     ]
    }
   ],
   "source": [
    "menu1 = int(input(\"김밥주문갯수 : \"))\n",
    "menu2 = int(input(\"떢볶이주문갯수 : \"))\n",
    "menu3 = int(input(\"라면주문갯수 : \"))\n",
    "\n",
    "print(\"메뉴판\\n 김밥 : 3,000원\\n 떢볶이 : 3,500원\\n 라면 : 2,500원\")\n",
    "\n",
    "print(\"주문 갯수 \\n 김밥2+떡볶이1+라면1\")\n",
    "\n",
    "print(\"지불하실 금액은\",menu1*3000+menu2*3500+menu3*2500,\"원 입니다.\")"
   ]
  },
  {
   "cell_type": "code",
   "execution_count": null,
   "id": "4080359f",
   "metadata": {},
   "outputs": [
    {
     "name": "stdout",
     "output_type": "stream",
     "text": [
      "\n",
      "메뉴판\n",
      "김밥 : 3000원\n",
      "떢볶이 : 3500원\n",
      "라면 : 2500원\n",
      "지불하실 금액은 14500원 입니다.\n",
      "주문 내역 \n",
      " 김밥 2,떡볶이 1, 라면 2\n"
     ]
    }
   ],
   "source": [
    "menu1 = int(input(\"김밥주문갯수 : \"))\n",
    "menu2 = int(input(\"떢볶이주문갯수 : \"))\n",
    "menu3 = int(input(\"라면주문갯수 : \"))\n",
    "\n",
    "m1 = 3000\n",
    "m2 = 3500\n",
    "m3 = 2500\n",
    "\n",
    "\n",
    "print(f\"\"\"\n",
    "메뉴판\n",
    "김밥 : {m1}원\n",
    "떢볶이 : {m2}원\n",
    "라면 : {m3}원\n",
    "지불하실 금액은 {menu1*3000+menu2*3500+menu3*2500}원 입니다.\"\"\"\"\")\n",
    "\n",
    "print(f\"주문 내역 \\n 김밥 {menu1},떡볶이 {menu2}, 라면 {menu3}\")\n",
    "\n"
   ]
  },
  {
   "cell_type": "code",
   "execution_count": null,
   "id": "26196339",
   "metadata": {},
   "outputs": [
    {
     "name": "stdout",
     "output_type": "stream",
     "text": [
      "스테이크 먹는다\n",
      "True\n"
     ]
    }
   ],
   "source": [
    "money = True\n",
    "\n",
    "if money:\n",
    "    print(\"스테이크 먹는다\")\n",
    "\n",
    "print(money)"
   ]
  },
  {
   "cell_type": "code",
   "execution_count": null,
   "id": "5c678de4",
   "metadata": {},
   "outputs": [],
   "source": [
    "money = False\n",
    "\n",
    "if money:\n",
    "    print(\"스테이크 먹는다\")\n",
    "\n",
    "print(\"조건문 종료\")"
   ]
  },
  {
   "cell_type": "code",
   "execution_count": 96,
   "id": "623816aa",
   "metadata": {},
   "outputs": [
    {
     "name": "stdout",
     "output_type": "stream",
     "text": [
      "조건문 종료\n"
     ]
    }
   ],
   "source": [
    "money = False\n",
    "\n",
    "if money:\n",
    "    print(\"스테이크 먹는다\")\n",
    "    print(\"블루보틀 커피 마신다\")\n",
    "    print(\"택시 탄다\")\n",
    "\n",
    "print(\"조건문 종료\")"
   ]
  },
  {
   "cell_type": "code",
   "execution_count": 97,
   "id": "fcf78203",
   "metadata": {},
   "outputs": [
    {
     "name": "stdout",
     "output_type": "stream",
     "text": [
      "라면 먹는다\n"
     ]
    }
   ],
   "source": [
    "money = False\n",
    "\n",
    "if money:\n",
    "    print(\"스테이크 먹는다\")\n",
    "    print(\"블루보틀 커피 마신다\")\n",
    "    print(\"택시 탄다\")\n",
    "else:\n",
    "    print(\"라면 먹는다\")"
   ]
  },
  {
   "cell_type": "code",
   "execution_count": 106,
   "id": "f3b316b9",
   "metadata": {},
   "outputs": [
    {
     "name": "stdout",
     "output_type": "stream",
     "text": [
      "Odd\n"
     ]
    }
   ],
   "source": [
    "num = 3\n",
    "\n",
    "if num % 2 == 0:\n",
    "    print('Even')\n",
    "else: \n",
    "        print('Odd')"
   ]
  },
  {
   "cell_type": "code",
   "execution_count": 109,
   "id": "30681402",
   "metadata": {},
   "outputs": [
    {
     "name": "stdout",
     "output_type": "stream",
     "text": [
      "Odd\n"
     ]
    }
   ],
   "source": [
    "num1 = int(input(\"숫자 : \"))\n",
    "\n",
    "if num1 % 2 == 0:\n",
    "    print('Even')\n",
    "else: \n",
    "        print('Odd')"
   ]
  },
  {
   "cell_type": "code",
   "execution_count": 111,
   "id": "4264c2e1",
   "metadata": {},
   "outputs": [
    {
     "name": "stdout",
     "output_type": "stream",
     "text": [
      "더 노력하세요.\n"
     ]
    }
   ],
   "source": [
    "eng = 80\n",
    "math = 100\n",
    "if eng >= 90 and math >= 90:\n",
    "    print(\"참 잘했어요!\")\n",
    "else: \n",
    "    print('더 노력하세요.')\n"
   ]
  },
  {
   "cell_type": "code",
   "execution_count": 113,
   "id": "0d379dc6",
   "metadata": {},
   "outputs": [
    {
     "name": "stdout",
     "output_type": "stream",
     "text": [
      "참 잘했어요!\n"
     ]
    }
   ],
   "source": [
    "eng = int(input(\"영어 점수 : \"))\n",
    "math = int(input(\"수학 점수 : \"))\n",
    "if eng >= 90 and math >= 90:\n",
    "    print(\"참 잘했어요!\")\n",
    "else: \n",
    "    print('더 노력하세요.')\n"
   ]
  },
  {
   "cell_type": "code",
   "execution_count": 116,
   "id": "7253e980",
   "metadata": {},
   "outputs": [
    {
     "name": "stdout",
     "output_type": "stream",
     "text": [
      "홀수입니다.\n"
     ]
    }
   ],
   "source": [
    "num = int(input(\"숫자를 입력하세요 : \"))\n",
    "\n",
    "if num1 % 2 == 0:\n",
    "    print('짝수입니다')\n",
    "else: \n",
    "    print('홀수입니다.')\n"
   ]
  },
  {
   "cell_type": "code",
   "execution_count": 125,
   "id": "24b92ada",
   "metadata": {},
   "outputs": [
    {
     "name": "stdout",
     "output_type": "stream",
     "text": [
      "B\n"
     ]
    }
   ],
   "source": [
    "grade = int(input(\"성적을 입력하세요 : \"))\n",
    "\n",
    "if grade>=90:\n",
    "    print('A')\n",
    "elif grade>=80: \n",
    "    print('B')\n",
    "elif grade>=70:\n",
    "    print('C')\n",
    "elif grade>=60:\n",
    "    print('D')\n",
    "\n",
    "else: \n",
    "    print('F')"
   ]
  },
  {
   "cell_type": "code",
   "execution_count": 119,
   "id": "e31aa80e",
   "metadata": {},
   "outputs": [
    {
     "name": "stdout",
     "output_type": "stream",
     "text": [
      "A\n"
     ]
    }
   ],
   "source": [
    "\n",
    "grade = int(input(\"성적을 입력하세요: \"))\n",
    "\n",
    "if grade >= 90:\n",
    "    print('A')\n",
    "elif grade >= 80:\n",
    "    print('B')\n",
    "elif grade >= 70:\n",
    "    print('C')\n",
    "elif grade >= 60:\n",
    "    print('D')\n",
    "else:\n",
    "    print('F')\n"
   ]
  },
  {
   "cell_type": "code",
   "execution_count": 126,
   "id": "2f69c0ba",
   "metadata": {},
   "outputs": [
    {
     "name": "stdout",
     "output_type": "stream",
     "text": [
      "Hello\n",
      "Hello\n",
      "Hello\n",
      "Hello\n",
      "Hello\n",
      "Hello\n",
      "Hello\n",
      "Hello\n",
      "Hello\n",
      "Hello\n"
     ]
    }
   ],
   "source": [
    "for i in range(10):\n",
    "    print(\"Hello\")"
   ]
  },
  {
   "cell_type": "code",
   "execution_count": 134,
   "id": "01587bfb",
   "metadata": {},
   "outputs": [
    {
     "name": "stdout",
     "output_type": "stream",
     "text": [
      "9번째 Hello\n",
      "7번째 Hello\n",
      "5번째 Hello\n",
      "3번째 Hello\n",
      "1번째 Hello\n"
     ]
    }
   ],
   "source": [
    "for i in range(9, 0, -2):\n",
    "    print(f\"{i}번째 Hello\")"
   ]
  },
  {
   "cell_type": "code",
   "execution_count": 135,
   "id": "ffd1417a",
   "metadata": {},
   "outputs": [
    {
     "ename": "TypeError",
     "evalue": "'type' object is not iterable",
     "output_type": "error",
     "traceback": [
      "\u001b[31m---------------------------------------------------------------------------\u001b[39m",
      "\u001b[31mTypeError\u001b[39m                                 Traceback (most recent call last)",
      "\u001b[36mCell\u001b[39m\u001b[36m \u001b[39m\u001b[32mIn[135]\u001b[39m\u001b[32m, line 2\u001b[39m\n\u001b[32m      1\u001b[39m \u001b[38;5;28;01mfor\u001b[39;00m i \u001b[38;5;129;01min\u001b[39;00m \u001b[38;5;28mrange\u001b[39m(\u001b[32m1\u001b[39m, \u001b[32m11\u001b[39m):\n\u001b[32m----> \u001b[39m\u001b[32m2\u001b[39m     \u001b[38;5;28mprint\u001b[39m(\u001b[38;5;28;43msum\u001b[39;49m\u001b[43m(\u001b[49m\u001b[38;5;28;43mrange\u001b[39;49m\u001b[43m)\u001b[49m)\n",
      "\u001b[31mTypeError\u001b[39m: 'type' object is not iterable"
     ]
    }
   ],
   "source": [
    "for i in range(1, 11):\n",
    "    print(sum(range))"
   ]
  },
  {
   "cell_type": "code",
   "execution_count": 136,
   "id": "0926e57d",
   "metadata": {},
   "outputs": [
    {
     "name": "stdout",
     "output_type": "stream",
     "text": [
      "55\n"
     ]
    }
   ],
   "source": [
    "total = 0\n",
    "for i in range(1, 11):\n",
    "    total += i\n",
    "print(total)"
   ]
  },
  {
   "cell_type": "code",
   "execution_count": 144,
   "id": "59c58ecb",
   "metadata": {},
   "outputs": [
    {
     "name": "stdout",
     "output_type": "stream",
     "text": [
      "1\n",
      "2\n",
      "3\n",
      "4\n",
      "5\n",
      "6\n",
      "7\n",
      "8\n",
      "9\n",
      "10\n"
     ]
    }
   ],
   "source": [
    "for i in range(1, 11):\n",
    "   print(i)"
   ]
  },
  {
   "cell_type": "code",
   "execution_count": 150,
   "id": "00953594",
   "metadata": {},
   "outputs": [
    {
     "name": "stdout",
     "output_type": "stream",
     "text": [
      "55\n"
     ]
    }
   ],
   "source": [
    "total = 0\n",
    "for i in range(1, 11):\n",
    "    total = total+i    \n",
    "print(total)"
   ]
  },
  {
   "cell_type": "code",
   "execution_count": 156,
   "id": "d8022ce1",
   "metadata": {},
   "outputs": [
    {
     "name": "stdout",
     "output_type": "stream",
     "text": [
      "24\n"
     ]
    }
   ],
   "source": [
    "total = 1\n",
    "for i in range(1, 5):\n",
    "    total = total*i    \n",
    "print(total)"
   ]
  },
  {
   "cell_type": "code",
   "execution_count": 158,
   "id": "5b8c7d07",
   "metadata": {},
   "outputs": [
    {
     "name": "stdout",
     "output_type": "stream",
     "text": [
      "1번째 Hello\n",
      "2번째 Hello\n",
      "3번째 Hello\n",
      "4번째 Hello\n",
      "5번째 Hello\n"
     ]
    }
   ],
   "source": [
    "i = 1\n",
    "while i<=5:\n",
    "    print(f\"{i}번째 Hello\")\n",
    "    i = i+1"
   ]
  },
  {
   "cell_type": "code",
   "execution_count": 4,
   "id": "90f856d0",
   "metadata": {},
   "outputs": [
    {
     "name": "stdout",
     "output_type": "stream",
     "text": [
      "21\n"
     ]
    }
   ],
   "source": [
    "num1 = int(input(\"정수를 입력하세요: \"))\n",
    "i = 1\n",
    "total = 0\n",
    "\n",
    "while i <=num1 :\n",
    "    total = total+i\n",
    "    i = i+1\n",
    "print(total)\n"
   ]
  },
  {
   "cell_type": "code",
   "execution_count": 5,
   "id": "7f1ced8b",
   "metadata": {},
   "outputs": [
    {
     "name": "stdout",
     "output_type": "stream",
     "text": [
      "24\n"
     ]
    }
   ],
   "source": [
    "num1 = int(input(\"정수를 입력하세요: \"))\n",
    "i = 1\n",
    "total = 1\n",
    "\n",
    "while i <=num1 :\n",
    "    total = total*i\n",
    "    i = i+1\n",
    "print(total)"
   ]
  },
  {
   "cell_type": "code",
   "execution_count": 7,
   "id": "f8561dcd",
   "metadata": {},
   "outputs": [
    {
     "name": "stdout",
     "output_type": "stream",
     "text": [
      "10\n"
     ]
    }
   ],
   "source": [
    "total = 0\n",
    "for i in range(1, 5):\n",
    "    total += i    \n",
    "print(total)"
   ]
  },
  {
   "cell_type": "code",
   "execution_count": 8,
   "id": "5e809f02",
   "metadata": {},
   "outputs": [],
   "source": [
    "## for 문 연습"
   ]
  },
  {
   "cell_type": "code",
   "execution_count": 9,
   "id": "6ab49eb5",
   "metadata": {},
   "outputs": [
    {
     "ename": "NameError",
     "evalue": "name '연습' is not defined",
     "output_type": "error",
     "traceback": [
      "\u001b[31m---------------------------------------------------------------------------\u001b[39m",
      "\u001b[31mNameError\u001b[39m                                 Traceback (most recent call last)",
      "\u001b[36mCell\u001b[39m\u001b[36m \u001b[39m\u001b[32mIn[9]\u001b[39m\u001b[32m, line 1\u001b[39m\n\u001b[32m----> \u001b[39m\u001b[32m1\u001b[39m \u001b[43m연습\u001b[49m\n",
      "\u001b[31mNameError\u001b[39m: name '연습' is not defined"
     ]
    }
   ],
   "source": [
    "연습"
   ]
  },
  {
   "cell_type": "code",
   "execution_count": 16,
   "id": "ccfe8cc7",
   "metadata": {},
   "outputs": [
    {
     "name": "stdout",
     "output_type": "stream",
     "text": [
      "구구단 문제\n",
      "5 곱하기 1 = 5\n",
      "5 곱하기 2 = 10\n",
      "5 곱하기 3 = 15\n",
      "5 곱하기 4 = 20\n",
      "5 곱하기 5 = 25\n",
      "5 곱하기 6 = 30\n",
      "5 곱하기 7 = 35\n",
      "5 곱하기 8 = 40\n",
      "5 곱하기 9 = 45\n"
     ]
    }
   ],
   "source": [
    "num1 = int(input(\"구구단 문제 내기: \"))\n",
    "print(\"구구단 문제\")\n",
    "for i in range(1, 10):\n",
    "    print(f\"{num1} 곱하기 {i} = {num1*i}\")"
   ]
  },
  {
   "cell_type": "markdown",
   "id": "b6e0d349",
   "metadata": {},
   "source": [
    "Break"
   ]
  },
  {
   "cell_type": "code",
   "execution_count": 17,
   "id": "402ae72f",
   "metadata": {},
   "outputs": [
    {
     "name": "stdout",
     "output_type": "stream",
     "text": [
      "정수: 6, 합계: 21\n",
      "정수: 7, 합계: 28\n",
      "정수: 8, 합계: 36\n",
      "정수: 9, 합계: 45\n",
      "정수: 10, 합계: 55\n",
      "55\n"
     ]
    }
   ],
   "source": [
    "# 1~10 합계, 합이 20이상 될 때 정수값을 찾기\n",
    "sum = 0\n",
    "for i in range(1, 10+1):\n",
    "    sum += i\n",
    "    if sum >= 20:\n",
    "        print(f\"정수: {i}, 합계: {sum}\")\n",
    "print(sum)"
   ]
  },
  {
   "cell_type": "code",
   "execution_count": 18,
   "id": "6175a6af",
   "metadata": {},
   "outputs": [
    {
     "name": "stdout",
     "output_type": "stream",
     "text": [
      "정수: 6, 합계: 21\n",
      "21\n"
     ]
    }
   ],
   "source": [
    "# 1~10 합계, 합이 20이상 될 때 정수값을 찾기\n",
    "sum = 0\n",
    "for i in range(1, 10+1):\n",
    "    sum += i\n",
    "    if sum >= 20:\n",
    "        print(f\"정수: {i}, 합계: {sum}\")\n",
    "        break\n",
    "print(sum)\n",
    "\n"
   ]
  },
  {
   "cell_type": "code",
   "execution_count": 44,
   "id": "824d4521",
   "metadata": {},
   "outputs": [
    {
     "name": "stdout",
     "output_type": "stream",
     "text": [
      "1는 3의 배수가 아닙니다\n",
      "2는 3의 배수가 아닙니다\n",
      "3의 배수입니다\n",
      "4는 3의 배수가 아닙니다\n",
      "5는 3의 배수가 아닙니다\n",
      "3의 배수입니다\n",
      "7는 3의 배수가 아닙니다\n",
      "8는 3의 배수가 아닙니다\n",
      "3의 배수입니다\n",
      "10는 3의 배수가 아닙니다\n"
     ]
    }
   ],
   "source": [
    "for i in range(1,11):\n",
    "    if i % 3!= 0:\n",
    "        print(f\"{i}는 3의 배수가 아닙니다\")\n",
    "    else:\n",
    "        print(\"3의 배수입니다\")\n"
   ]
  },
  {
   "cell_type": "code",
   "execution_count": null,
   "id": "eb695c4f",
   "metadata": {},
   "outputs": [
    {
     "name": "stdout",
     "output_type": "stream",
     "text": [
      "너무 커요\n",
      "너무 작아요\n",
      "40\n"
     ]
    }
   ],
   "source": [
    "import random\n",
    "answer = random.randint(1, 100)\n",
    "\n",
    "while True:\n",
    "    guess = int(input(\"1부터 100사이의 숫자를 맞춰주세요. : \"))\n",
    "    if guess == answer: \n",
    "         print(f\"정답입니다.{i}번째 시도, 게임을 종료합니다.\")\n",
    "\n",
    "    elif guess > answer:\n",
    "        print(\"너무 커요\")\n",
    "    else: \n",
    "        print(\"너무 작아요\")\n",
    "        break\n",
    "\n",
    "print(answer)"
   ]
  },
  {
   "cell_type": "code",
   "execution_count": 41,
   "id": "080e0e13",
   "metadata": {},
   "outputs": [
    {
     "name": "stdout",
     "output_type": "stream",
     "text": [
      "70\n"
     ]
    }
   ],
   "source": [
    "import random\n",
    "answer = random.randint(1, 100)\n",
    "print(answer)"
   ]
  },
  {
   "cell_type": "code",
   "execution_count": 50,
   "id": "008f55f6",
   "metadata": {},
   "outputs": [
    {
     "name": "stdout",
     "output_type": "stream",
     "text": [
      "1\n",
      "2\n",
      "4\n",
      "7\n",
      "8\n",
      "11\n",
      "13\n",
      "14\n",
      "16\n",
      "17\n",
      "19\n"
     ]
    }
   ],
   "source": [
    "i=1\n",
    "while True: \n",
    "    if i >= 20:\n",
    "        break\n",
    "    if i % 3 != 0 and i % 5 != 0:\n",
    "            print(i)\n",
    "    i += 1    "
   ]
  },
  {
   "cell_type": "code",
   "execution_count": 45,
   "id": "c00906b4",
   "metadata": {},
   "outputs": [
    {
     "name": "stdout",
     "output_type": "stream",
     "text": [
      "1\n",
      "2\n",
      "4\n",
      "7\n",
      "8\n",
      "11\n",
      "13\n",
      "14\n",
      "16\n",
      "17\n",
      "19\n"
     ]
    }
   ],
   "source": [
    "i = 1\n",
    "\n",
    "while True:\n",
    "    if i >= 20:\n",
    "        break\n",
    "    if i % 3 != 0 and i % 5 != 0:\n",
    "        print(i)\n",
    "    i += 1\n"
   ]
  },
  {
   "cell_type": "code",
   "execution_count": 53,
   "id": "fbfab008",
   "metadata": {},
   "outputs": [
    {
     "ename": "SyntaxError",
     "evalue": "invalid syntax (3749142621.py, line 2)",
     "output_type": "error",
     "traceback": [
      "  \u001b[36mCell\u001b[39m\u001b[36m \u001b[39m\u001b[32mIn[53]\u001b[39m\u001b[32m, line 2\u001b[39m\n\u001b[31m    \u001b[39m\u001b[31mwhile:\u001b[39m\n         ^\n\u001b[31mSyntaxError\u001b[39m\u001b[31m:\u001b[39m invalid syntax\n"
     ]
    }
   ],
   "source": [
    "i=1\n",
    "while: \n",
    "    if i >= 20:\n",
    "        break\n",
    "    if i % 3 != 0 and i % 5 != 0:\n",
    "            print(i)\n",
    "    i += 1    "
   ]
  },
  {
   "cell_type": "code",
   "execution_count": 57,
   "id": "5a4219f5",
   "metadata": {},
   "outputs": [
    {
     "name": "stdout",
     "output_type": "stream",
     "text": [
      "1\n",
      "2\n",
      "4\n",
      "7\n",
      "8\n",
      "11\n",
      "13\n",
      "14\n",
      "16\n",
      "17\n",
      "19\n",
      "20 break\n"
     ]
    }
   ],
   "source": [
    "i=0\n",
    "while True: \n",
    "    i += 1\n",
    "    if i >= 20:\n",
    "        print(f\"{i} break\")\n",
    "        break\n",
    "    if i % 3 == 0 or i % 5 == 0:\n",
    "        continue\n",
    "    print(i)\n",
    "   "
   ]
  },
  {
   "cell_type": "markdown",
   "id": "8bde2592",
   "metadata": {},
   "source": [
    "# 중첩반복문\n",
    "## 2~9단 모두 출력\n",
    "2 * 1 = 2\n",
    "\n",
    "2 * 2 = 4\n",
    "\n",
    "2 * 3 = 6"
   ]
  },
  {
   "cell_type": "code",
   "execution_count": 66,
   "id": "b8111b8e",
   "metadata": {},
   "outputs": [
    {
     "name": "stdout",
     "output_type": "stream",
     "text": [
      "2\n",
      "3\n",
      "4\n",
      "5\n",
      "6\n",
      "7\n",
      "8\n",
      "9\n",
      "9 * 1 = 9\n",
      "9 * 2 = 18\n",
      "9 * 3 = 27\n",
      "9 * 4 = 36\n",
      "9 * 5 = 45\n",
      "9 * 6 = 54\n",
      "9 * 7 = 63\n",
      "9 * 8 = 72\n",
      "9 * 9 = 81\n"
     ]
    }
   ],
   "source": [
    "# 2 <= dan <= 9\n",
    "#  \n",
    "for dan in range(2,10):\n",
    "    print(dan)\n",
    "\n",
    "for i in range(1,10):\n",
    "    print(f\"{dan} * {i} = {dan * i}\")"
   ]
  },
  {
   "cell_type": "code",
   "execution_count": 83,
   "id": "6d85bfd0",
   "metadata": {},
   "outputs": [
    {
     "name": "stdout",
     "output_type": "stream",
     "text": [
      "2단 2 * 1 = 2 2단 2 * 2 = 4 2단 2 * 3 = 6 2단 2 * 4 = 8 2단 2 * 5 = 10 2단 2 * 6 = 12 2단 2 * 7 = 14 2단 2 * 8 = 16 2단 2 * 9 = 18 \n",
      "3단 3 * 1 = 3 3단 3 * 2 = 6 3단 3 * 3 = 9 3단 3 * 4 = 12 3단 3 * 5 = 15 3단 3 * 6 = 18 3단 3 * 7 = 21 3단 3 * 8 = 24 3단 3 * 9 = 27 \n",
      "4단 4 * 1 = 4 4단 4 * 2 = 8 4단 4 * 3 = 12 4단 4 * 4 = 16 4단 4 * 5 = 20 4단 4 * 6 = 24 4단 4 * 7 = 28 4단 4 * 8 = 32 4단 4 * 9 = 36 \n",
      "5단 5 * 1 = 5 5단 5 * 2 = 10 5단 5 * 3 = 15 5단 5 * 4 = 20 5단 5 * 5 = 25 5단 5 * 6 = 30 5단 5 * 7 = 35 5단 5 * 8 = 40 5단 5 * 9 = 45 \n",
      "6단 6 * 1 = 6 6단 6 * 2 = 12 6단 6 * 3 = 18 6단 6 * 4 = 24 6단 6 * 5 = 30 6단 6 * 6 = 36 6단 6 * 7 = 42 6단 6 * 8 = 48 6단 6 * 9 = 54 \n",
      "7단 7 * 1 = 7 7단 7 * 2 = 14 7단 7 * 3 = 21 7단 7 * 4 = 28 7단 7 * 5 = 35 7단 7 * 6 = 42 7단 7 * 7 = 49 7단 7 * 8 = 56 7단 7 * 9 = 63 \n",
      "8단 8 * 1 = 8 8단 8 * 2 = 16 8단 8 * 3 = 24 8단 8 * 4 = 32 8단 8 * 5 = 40 8단 8 * 6 = 48 8단 8 * 7 = 56 8단 8 * 8 = 64 8단 8 * 9 = 72 \n",
      "9단 9 * 1 = 9 9단 9 * 2 = 18 9단 9 * 3 = 27 9단 9 * 4 = 36 9단 9 * 5 = 45 9단 9 * 6 = 54 9단 9 * 7 = 63 9단 9 * 8 = 72 9단 9 * 9 = 81 \n"
     ]
    }
   ],
   "source": [
    "for dan in range(2,10):\n",
    "    for i in range(1,10):\n",
    "        print(f\"{dan}단 {dan} * {i} = {dan * i}\", end= \" \")\n",
    "    print()"
   ]
  },
  {
   "cell_type": "code",
   "execution_count": null,
   "id": "5b9f0a99",
   "metadata": {},
   "outputs": [
    {
     "ename": "IndentationError",
     "evalue": "unexpected indent (4214885416.py, line 3)",
     "output_type": "error",
     "traceback": [
      "  \u001b[36mCell\u001b[39m\u001b[36m \u001b[39m\u001b[32mIn[88]\u001b[39m\u001b[32m, line 3\u001b[39m\n\u001b[31m    \u001b[39m\u001b[31mfor i in range(1,10):\u001b[39m\n    ^\n\u001b[31mIndentationError\u001b[39m\u001b[31m:\u001b[39m unexpected indent\n"
     ]
    }
   ],
   "source": [
    "i=*\n",
    "while True: \n",
    "    i += **\n",
    " for i in range(1,10):\n",
    "    print(f\"{i}\"+2)\n",
    "    print()"
   ]
  },
  {
   "cell_type": "code",
   "execution_count": 2,
   "id": "f9228009",
   "metadata": {},
   "outputs": [
    {
     "name": "stdout",
     "output_type": "stream",
     "text": [
      "         *\n",
      "        ***\n",
      "       *****\n",
      "      *******\n",
      "     *********\n",
      "    ***********\n",
      "   *************\n",
      "  ***************\n",
      " *****************\n",
      "*******************\n"
     ]
    }
   ],
   "source": [
    "height = 10  # 원하는 줄 수\n",
    "\n",
    "for i in range(height):\n",
    "    spaces = ' ' * (height - i - 1)\n",
    "    stars = '*' * (2 * i + 1)\n",
    "    print(spaces + stars)\n"
   ]
  },
  {
   "cell_type": "code",
   "execution_count": 5,
   "id": "f45af155",
   "metadata": {},
   "outputs": [
    {
     "name": "stdout",
     "output_type": "stream",
     "text": [
      "*\n",
      "*\n",
      "*\n",
      "*\n",
      "*\n",
      "*\n",
      "*\n",
      "*\n",
      "*\n",
      "*\n"
     ]
    }
   ],
   "source": [
    "n = 10\n",
    "for i in range(n):\n",
    "    print(\"*\")"
   ]
  },
  {
   "cell_type": "code",
   "execution_count": 18,
   "id": "7da104f9",
   "metadata": {},
   "outputs": [
    {
     "name": "stdout",
     "output_type": "stream",
     "text": [
      "- - - - - - - - - *\n",
      "- - - - - - - - *\n",
      "- - - - - - - *\n",
      "- - - - - - *\n",
      "- - - - - *\n",
      "- - - - *\n",
      "- - - *\n",
      "- - *\n",
      "- *\n",
      "*\n"
     ]
    }
   ],
   "source": [
    "n = 10\n",
    "for i in range(1, n + 1):\n",
    "    for j in range(n-i):\n",
    "        print('-',end=' ')\n",
    "    print(\"*\")"
   ]
  },
  {
   "cell_type": "code",
   "execution_count": 50,
   "id": "f4544e49",
   "metadata": {},
   "outputs": [
    {
     "name": "stdout",
     "output_type": "stream",
     "text": [
      "- - - - - - - - - * \n",
      "- - - - - - - - * * * \n",
      "- - - - - - - * * * * * \n",
      "- - - - - - * * * * * * * \n",
      "- - - - - * * * * * * * * * \n",
      "- - - - * * * * * * * * * * * \n",
      "- - - * * * * * * * * * * * * * \n",
      "- - * * * * * * * * * * * * * * * \n",
      "- * * * * * * * * * * * * * * * * * \n",
      "* * * * * * * * * * * * * * * * * * * \n"
     ]
    }
   ],
   "source": [
    "n = 10\n",
    "for i in range(1, n + 1):\n",
    "    for j in range(n-i):\n",
    "        print('-', end=' ')\n",
    "    for j in range(2 * i - 1):\n",
    "        print('*', end=' ')\n",
    "    print()"
   ]
  },
  {
   "cell_type": "code",
   "execution_count": 30,
   "id": "9a38bca1",
   "metadata": {},
   "outputs": [
    {
     "name": "stdout",
     "output_type": "stream",
     "text": [
      "         *\n",
      "        ***\n",
      "       *****\n",
      "      *******\n",
      "     *********\n",
      "    ***********\n",
      "   *************\n",
      "  ***************\n",
      " *****************\n",
      "*******************\n"
     ]
    }
   ],
   "source": [
    "n = 10\n",
    "for i in range(1, n + 1):\n",
    "    spaces = ' ' * (n - i)\n",
    "    stars = '*' * (2 * i - 1)\n",
    "    print(spaces + stars)"
   ]
  },
  {
   "cell_type": "code",
   "execution_count": 46,
   "id": "2b2453e7",
   "metadata": {},
   "outputs": [
    {
     "name": "stdout",
     "output_type": "stream",
     "text": [
      "(i = 0, j=0)\n",
      "(i = 0, j=1)\n",
      "(i = 0, j=2)\n",
      "(i = 0, j=3)\n",
      "(i = 0, j=4)\n",
      "(i = 1, j=0)\n",
      "(i = 1, j=1)\n",
      "(i = 1, j=2)\n",
      "(i = 1, j=3)\n",
      "(i = 1, j=4)\n",
      "(i = 2, j=0)\n",
      "(i = 2, j=1)\n",
      "(i = 2, j=2)\n",
      "(i = 2, j=3)\n",
      "(i = 2, j=4)\n",
      "(i = 3, j=0)\n",
      "(i = 3, j=1)\n",
      "(i = 3, j=2)\n",
      "(i = 3, j=3)\n",
      "(i = 3, j=4)\n",
      "(i = 4, j=0)\n",
      "(i = 4, j=1)\n",
      "(i = 4, j=2)\n",
      "(i = 4, j=3)\n",
      "(i = 4, j=4)\n",
      "16\n"
     ]
    }
   ],
   "source": [
    "num = 0\n",
    "for i in range(5):\n",
    "    for j in range(5):\n",
    "        print(f\"(i = {i}, j={j})\")\n",
    "        num = i*j\n",
    "print(num)"
   ]
  },
  {
   "cell_type": "code",
   "execution_count": 47,
   "id": "6d61463f",
   "metadata": {},
   "outputs": [
    {
     "name": "stdout",
     "output_type": "stream",
     "text": [
      "(i = 0, j = 0)\n",
      "(i = 0, j = 1)\n",
      "(i = 0, j = 2)\n",
      "(i = 0, j = 3)\n",
      "(i = 0, j = 4)\n",
      "(i = 1, j = 0)\n",
      "(i = 1, j = 1)\n",
      "(i = 1, j = 2)\n",
      "(i = 1, j = 3)\n",
      "(i = 1, j = 4)\n",
      "(i = 2, j = 0)\n",
      "(i = 2, j = 1)\n",
      "(i = 2, j = 2)\n",
      "(i = 2, j = 3)\n",
      "6\n"
     ]
    }
   ],
   "source": [
    "number = 0\n",
    "for i in range(5):\n",
    "    for j in range(5):\n",
    "        print(f\"(i = {i}, j = {j})\")\n",
    "        number = i*j\n",
    "        if i == 2 and j == 3:\n",
    "            break\n",
    "    if i == 2 and j == 3:\n",
    "        break\n",
    "\n",
    "print(number)"
   ]
  },
  {
   "cell_type": "code",
   "execution_count": 67,
   "id": "73a49e5b",
   "metadata": {},
   "outputs": [
    {
     "name": "stdout",
     "output_type": "stream",
     "text": [
      "* \n",
      "* * \n",
      "* * * \n",
      "* * * * \n",
      "* * * * * \n",
      "* * * * * * \n",
      "* * * * * * * \n",
      "* * "
     ]
    }
   ],
   "source": [
    "n = 30\n",
    "star = 0\n",
    "break_all = False\n",
    "\n",
    "for i in range(1, 10+1):\n",
    "    for j in range(i):\n",
    "        star += 1\n",
    "        if star > n:\n",
    "            break_all = True\n",
    "            break\n",
    "        print('*', end=' ')\n",
    "    if break_all:\n",
    "        break\n",
    "    print()\n"
   ]
  },
  {
   "cell_type": "code",
   "execution_count": 71,
   "id": "d111828d",
   "metadata": {},
   "outputs": [
    {
     "name": "stdout",
     "output_type": "stream",
     "text": [
      "* \n",
      "* * \n",
      "* * * \n",
      "* * * * \n",
      "* * * * * \n",
      "* * * * * * \n",
      "* * * * * * * \n",
      "* * "
     ]
    }
   ],
   "source": [
    "n = 30\n",
    "star = 0\n",
    "break_all = False\n",
    "\n",
    "for i in range(1, 10+1):\n",
    "    for j in range(i):\n",
    "        star += 1\n",
    "        if star > n:\n",
    "            break_all = True\n",
    "            break\n",
    "        print('*', end=' ')\n",
    "    if break_all:\n",
    "        break\n",
    "    print()"
   ]
  },
  {
   "cell_type": "code",
   "execution_count": 96,
   "id": "40a1fe3c",
   "metadata": {},
   "outputs": [],
   "source": [
    "my_str = \"Hello, Python\""
   ]
  },
  {
   "cell_type": "code",
   "execution_count": null,
   "id": "23d73997",
   "metadata": {},
   "outputs": [
    {
     "data": {
      "text/plain": [
       "'Hello, Python'"
      ]
     },
     "execution_count": 101,
     "metadata": {},
     "output_type": "execute_result"
    }
   ],
   "source": [
    "my_str[]"
   ]
  },
  {
   "cell_type": "code",
   "execution_count": 102,
   "id": "d1e4a474",
   "metadata": {},
   "outputs": [
    {
     "data": {
      "text/plain": [
       "str"
      ]
     },
     "execution_count": 102,
     "metadata": {},
     "output_type": "execute_result"
    }
   ],
   "source": [
    "type(my_str)"
   ]
  },
  {
   "cell_type": "code",
   "execution_count": 175,
   "id": "6d915277",
   "metadata": {},
   "outputs": [
    {
     "name": "stdout",
     "output_type": "stream",
     "text": [
      "0\n",
      "1\n",
      "2\n",
      "3\n",
      "4\n",
      "5\n",
      "6\n",
      "7\n",
      "8\n",
      "9\n",
      "10\n",
      "11\n",
      "12\n"
     ]
    }
   ],
   "source": [
    "for i in range(len(my_str)):\n",
    "    print(i)"
   ]
  },
  {
   "cell_type": "code",
   "execution_count": 104,
   "id": "73763def",
   "metadata": {},
   "outputs": [
    {
     "data": {
      "text/plain": [
       "13"
      ]
     },
     "execution_count": 104,
     "metadata": {},
     "output_type": "execute_result"
    }
   ],
   "source": [
    "len(my_str)"
   ]
  },
  {
   "cell_type": "code",
   "execution_count": 105,
   "id": "99987c53",
   "metadata": {},
   "outputs": [
    {
     "data": {
      "text/plain": [
       "'hello, python'"
      ]
     },
     "execution_count": 105,
     "metadata": {},
     "output_type": "execute_result"
    }
   ],
   "source": [
    "my_str.lower()"
   ]
  },
  {
   "cell_type": "code",
   "execution_count": 111,
   "id": "7ca3e662",
   "metadata": {},
   "outputs": [
    {
     "name": "stdout",
     "output_type": "stream",
     "text": [
      "['Hello', ' Python']\n"
     ]
    }
   ],
   "source": [
    "words = my_str.split(',')\n",
    "print(words)"
   ]
  },
  {
   "cell_type": "code",
   "execution_count": 113,
   "id": "3fad76f9",
   "metadata": {},
   "outputs": [
    {
     "data": {
      "text/plain": [
       "[1, 2, 3, 4, 5, 6, 7, 8, 9, 10]"
      ]
     },
     "execution_count": 113,
     "metadata": {},
     "output_type": "execute_result"
    }
   ],
   "source": [
    "num1 = [ 1, 2, 3, 4, 5]\n",
    "num2 = [6, 7, 8, 9, 10]\n",
    "num1 + num2"
   ]
  },
  {
   "cell_type": "code",
   "execution_count": 114,
   "id": "f72e3284",
   "metadata": {},
   "outputs": [
    {
     "data": {
      "text/plain": [
       "[1, 2, 3, 4, 5, 1, 2, 3, 4, 5]"
      ]
     },
     "execution_count": 114,
     "metadata": {},
     "output_type": "execute_result"
    }
   ],
   "source": [
    "num1 * 2"
   ]
  },
  {
   "cell_type": "code",
   "execution_count": 115,
   "id": "06d1db70",
   "metadata": {},
   "outputs": [],
   "source": [
    "fruit = ['apple', 'banana', 'mango']"
   ]
  },
  {
   "cell_type": "code",
   "execution_count": 121,
   "id": "d0b8d742",
   "metadata": {},
   "outputs": [
    {
     "data": {
      "text/plain": [
       "['apple', 'mango']"
      ]
     },
     "execution_count": 121,
     "metadata": {},
     "output_type": "execute_result"
    }
   ],
   "source": [
    "fruit[0::2]"
   ]
  },
  {
   "cell_type": "code",
   "execution_count": 122,
   "id": "97505df6",
   "metadata": {},
   "outputs": [],
   "source": [
    "fruit.append('cherry')"
   ]
  },
  {
   "cell_type": "code",
   "execution_count": 123,
   "id": "02668078",
   "metadata": {},
   "outputs": [
    {
     "data": {
      "text/plain": [
       "['apple', 'banana', 'mango', 'cherry']"
      ]
     },
     "execution_count": 123,
     "metadata": {},
     "output_type": "execute_result"
    }
   ],
   "source": [
    "fruit"
   ]
  },
  {
   "cell_type": "code",
   "execution_count": 127,
   "id": "4341de4e",
   "metadata": {},
   "outputs": [],
   "source": [
    "fruit.insert(2,'lemon')"
   ]
  },
  {
   "cell_type": "code",
   "execution_count": 128,
   "id": "c31b3284",
   "metadata": {},
   "outputs": [
    {
     "data": {
      "text/plain": [
       "['apple', 'banana', 'lemon', 'mango', 'cherry']"
      ]
     },
     "execution_count": 128,
     "metadata": {},
     "output_type": "execute_result"
    }
   ],
   "source": [
    "fruit"
   ]
  },
  {
   "cell_type": "code",
   "execution_count": 129,
   "id": "0435c5d8",
   "metadata": {},
   "outputs": [
    {
     "data": {
      "text/plain": [
       "'cherry'"
      ]
     },
     "execution_count": 129,
     "metadata": {},
     "output_type": "execute_result"
    }
   ],
   "source": [
    "fruit[-1]"
   ]
  },
  {
   "cell_type": "code",
   "execution_count": 131,
   "id": "f9c16e55",
   "metadata": {},
   "outputs": [],
   "source": [
    "fruit[0] = 'grape'"
   ]
  },
  {
   "cell_type": "code",
   "execution_count": 132,
   "id": "3890b227",
   "metadata": {},
   "outputs": [
    {
     "data": {
      "text/plain": [
       "['grape', 'banana', 'lemon', 'mango', 'cherry']"
      ]
     },
     "execution_count": 132,
     "metadata": {},
     "output_type": "execute_result"
    }
   ],
   "source": [
    "fruit"
   ]
  },
  {
   "cell_type": "code",
   "execution_count": 133,
   "id": "ba425ded",
   "metadata": {},
   "outputs": [],
   "source": [
    "fruit.extend(['oreange','melon'])"
   ]
  },
  {
   "cell_type": "code",
   "execution_count": 134,
   "id": "2d5ff777",
   "metadata": {},
   "outputs": [
    {
     "data": {
      "text/plain": [
       "['grape', 'banana', 'lemon', 'mango', 'cherry', 'oreange', 'melon']"
      ]
     },
     "execution_count": 134,
     "metadata": {},
     "output_type": "execute_result"
    }
   ],
   "source": [
    "fruit"
   ]
  },
  {
   "cell_type": "code",
   "execution_count": 135,
   "id": "1cfa5e94",
   "metadata": {},
   "outputs": [
    {
     "data": {
      "text/plain": [
       "'melon'"
      ]
     },
     "execution_count": 135,
     "metadata": {},
     "output_type": "execute_result"
    }
   ],
   "source": [
    "fruit.pop()"
   ]
  },
  {
   "cell_type": "code",
   "execution_count": 136,
   "id": "1d26744b",
   "metadata": {},
   "outputs": [
    {
     "data": {
      "text/plain": [
       "['grape', 'banana', 'lemon', 'mango', 'cherry', 'oreange']"
      ]
     },
     "execution_count": 136,
     "metadata": {},
     "output_type": "execute_result"
    }
   ],
   "source": [
    "fruit"
   ]
  },
  {
   "cell_type": "code",
   "execution_count": 137,
   "id": "ecfa8d54",
   "metadata": {},
   "outputs": [
    {
     "ename": "TypeError",
     "evalue": "'list' object is not callable",
     "output_type": "error",
     "traceback": [
      "\u001b[31m---------------------------------------------------------------------------\u001b[39m",
      "\u001b[31mTypeError\u001b[39m                                 Traceback (most recent call last)",
      "\u001b[36mCell\u001b[39m\u001b[36m \u001b[39m\u001b[32mIn[137]\u001b[39m\u001b[32m, line 1\u001b[39m\n\u001b[32m----> \u001b[39m\u001b[32m1\u001b[39m \u001b[43mfruit\u001b[49m\u001b[43m(\u001b[49m\u001b[32;43m0\u001b[39;49m\u001b[43m)\u001b[49m\n",
      "\u001b[31mTypeError\u001b[39m: 'list' object is not callable"
     ]
    }
   ],
   "source": [
    "fruit(0)"
   ]
  },
  {
   "cell_type": "code",
   "execution_count": 138,
   "id": "c857f81f",
   "metadata": {},
   "outputs": [
    {
     "data": {
      "text/plain": [
       "'grape'"
      ]
     },
     "execution_count": 138,
     "metadata": {},
     "output_type": "execute_result"
    }
   ],
   "source": [
    "fruit.pop(0)      "
   ]
  },
  {
   "cell_type": "code",
   "execution_count": 139,
   "id": "b0534a93",
   "metadata": {},
   "outputs": [],
   "source": [
    "fruit.remove(\"cherry\")"
   ]
  },
  {
   "cell_type": "code",
   "execution_count": 140,
   "id": "95231feb",
   "metadata": {},
   "outputs": [
    {
     "data": {
      "text/plain": [
       "['banana', 'lemon', 'mango', 'oreange']"
      ]
     },
     "execution_count": 140,
     "metadata": {},
     "output_type": "execute_result"
    }
   ],
   "source": [
    "fruit"
   ]
  },
  {
   "cell_type": "code",
   "execution_count": 141,
   "id": "ee8c180b",
   "metadata": {},
   "outputs": [
    {
     "ename": "ValueError",
     "evalue": "list.remove(x): x not in list",
     "output_type": "error",
     "traceback": [
      "\u001b[31m---------------------------------------------------------------------------\u001b[39m",
      "\u001b[31mValueError\u001b[39m                                Traceback (most recent call last)",
      "\u001b[36mCell\u001b[39m\u001b[36m \u001b[39m\u001b[32mIn[141]\u001b[39m\u001b[32m, line 1\u001b[39m\n\u001b[32m----> \u001b[39m\u001b[32m1\u001b[39m \u001b[43mfruit\u001b[49m\u001b[43m.\u001b[49m\u001b[43mremove\u001b[49m\u001b[43m(\u001b[49m\u001b[33;43m\"\u001b[39;49m\u001b[33;43mche\u001b[39;49m\u001b[33;43m\"\u001b[39;49m\u001b[43m)\u001b[49m\n",
      "\u001b[31mValueError\u001b[39m: list.remove(x): x not in list"
     ]
    }
   ],
   "source": [
    "fruit.remove(\"che\")"
   ]
  },
  {
   "cell_type": "code",
   "execution_count": 150,
   "id": "26d005c7",
   "metadata": {},
   "outputs": [
    {
     "data": {
      "text/plain": [
       "['banana',\n",
       " 'lemon',\n",
       " 'mango',\n",
       " 'oreange',\n",
       " 'jujube',\n",
       " 'jujube',\n",
       " 'jujube',\n",
       " 'jujube',\n",
       " 'jujube']"
      ]
     },
     "execution_count": 150,
     "metadata": {},
     "output_type": "execute_result"
    }
   ],
   "source": [
    "fruit.append('jujube')\n",
    "fruit"
   ]
  },
  {
   "cell_type": "code",
   "execution_count": 152,
   "id": "a71ab804",
   "metadata": {},
   "outputs": [
    {
     "data": {
      "text/plain": [
       "4"
      ]
     },
     "execution_count": 152,
     "metadata": {},
     "output_type": "execute_result"
    }
   ],
   "source": [
    "fruit.index('jujube')"
   ]
  },
  {
   "cell_type": "code",
   "execution_count": 153,
   "id": "e1ab634a",
   "metadata": {},
   "outputs": [],
   "source": [
    "fruit.remove('jujube')"
   ]
  },
  {
   "cell_type": "code",
   "execution_count": 154,
   "id": "0f8f7963",
   "metadata": {},
   "outputs": [
    {
     "data": {
      "text/plain": [
       "['banana', 'lemon', 'mango', 'oreange', 'jujube', 'jujube', 'jujube', 'jujube']"
      ]
     },
     "execution_count": 154,
     "metadata": {},
     "output_type": "execute_result"
    }
   ],
   "source": [
    "fruit"
   ]
  },
  {
   "cell_type": "code",
   "execution_count": 156,
   "id": "f9930f25",
   "metadata": {},
   "outputs": [
    {
     "data": {
      "text/plain": [
       "8"
      ]
     },
     "execution_count": 156,
     "metadata": {},
     "output_type": "execute_result"
    }
   ],
   "source": [
    "len(fruit)"
   ]
  },
  {
   "cell_type": "code",
   "execution_count": 158,
   "id": "40100075",
   "metadata": {},
   "outputs": [
    {
     "data": {
      "text/plain": [
       "'jujube'"
      ]
     },
     "execution_count": 158,
     "metadata": {},
     "output_type": "execute_result"
    }
   ],
   "source": [
    "fruit.pop(4)"
   ]
  },
  {
   "cell_type": "code",
   "execution_count": 159,
   "id": "467afb60",
   "metadata": {},
   "outputs": [
    {
     "data": {
      "text/plain": [
       "['banana', 'lemon', 'mango', 'oreange', 'jujube', 'jujube', 'jujube']"
      ]
     },
     "execution_count": 159,
     "metadata": {},
     "output_type": "execute_result"
    }
   ],
   "source": [
    "fruit"
   ]
  },
  {
   "cell_type": "code",
   "execution_count": 160,
   "id": "e6ae904a",
   "metadata": {},
   "outputs": [],
   "source": [
    "fruit.sort()"
   ]
  },
  {
   "cell_type": "code",
   "execution_count": 161,
   "id": "e2ef7f26",
   "metadata": {},
   "outputs": [
    {
     "data": {
      "text/plain": [
       "['banana', 'jujube', 'jujube', 'jujube', 'lemon', 'mango', 'oreange']"
      ]
     },
     "execution_count": 161,
     "metadata": {},
     "output_type": "execute_result"
    }
   ],
   "source": [
    "fruit"
   ]
  },
  {
   "cell_type": "code",
   "execution_count": 162,
   "id": "0e0286da",
   "metadata": {},
   "outputs": [],
   "source": [
    "fruit.sort(reverse = True)"
   ]
  },
  {
   "cell_type": "code",
   "execution_count": 163,
   "id": "36fa14d6",
   "metadata": {},
   "outputs": [
    {
     "data": {
      "text/plain": [
       "['oreange', 'mango', 'lemon', 'jujube', 'jujube', 'jujube', 'banana']"
      ]
     },
     "execution_count": 163,
     "metadata": {},
     "output_type": "execute_result"
    }
   ],
   "source": [
    "fruit"
   ]
  },
  {
   "cell_type": "code",
   "execution_count": 164,
   "id": "cd30eaea",
   "metadata": {},
   "outputs": [],
   "source": [
    "fruit.remove('jujube')"
   ]
  },
  {
   "cell_type": "code",
   "execution_count": 165,
   "id": "74369567",
   "metadata": {},
   "outputs": [
    {
     "data": {
      "text/plain": [
       "['oreange', 'mango', 'lemon', 'jujube', 'jujube', 'banana']"
      ]
     },
     "execution_count": 165,
     "metadata": {},
     "output_type": "execute_result"
    }
   ],
   "source": [
    "fruit"
   ]
  },
  {
   "cell_type": "code",
   "execution_count": 167,
   "id": "010e0298",
   "metadata": {},
   "outputs": [],
   "source": [
    "fruit.insert(0, 'apple')\n"
   ]
  },
  {
   "cell_type": "code",
   "execution_count": 168,
   "id": "7e7a63b1",
   "metadata": {},
   "outputs": [
    {
     "data": {
      "text/plain": [
       "['apple', 'oreange', 'mango', 'lemon', 'jujube', 'jujube', 'banana']"
      ]
     },
     "execution_count": 168,
     "metadata": {},
     "output_type": "execute_result"
    }
   ],
   "source": [
    "fruit"
   ]
  },
  {
   "cell_type": "code",
   "execution_count": 173,
   "id": "b96ad0b6",
   "metadata": {},
   "outputs": [
    {
     "name": "stdout",
     "output_type": "stream",
     "text": [
      "0 번째 과일은 apple입니다.\n",
      "1 번째 과일은 oreange입니다.\n",
      "2 번째 과일은 mango입니다.\n",
      "3 번째 과일은 cherry입니다.\n"
     ]
    }
   ],
   "source": [
    "fruit = ['apple', 'oreange', 'mango', 'cherry']\n",
    "for i in range(len(fruit)):\n",
    "    print(f\"{i} 번째 과일은 {fruit[i]}입니다.\")"
   ]
  },
  {
   "cell_type": "code",
   "execution_count": 176,
   "id": "e4d3628f",
   "metadata": {},
   "outputs": [
    {
     "data": {
      "text/plain": [
       "5"
      ]
     },
     "execution_count": 176,
     "metadata": {},
     "output_type": "execute_result"
    }
   ],
   "source": [
    "number = [ 10, 20, 30, 40, 50]\n",
    "len(number)"
   ]
  },
  {
   "cell_type": "code",
   "execution_count": 177,
   "id": "143cb6ec",
   "metadata": {},
   "outputs": [
    {
     "data": {
      "text/plain": [
       "50"
      ]
     },
     "execution_count": 177,
     "metadata": {},
     "output_type": "execute_result"
    }
   ],
   "source": [
    "max(number)"
   ]
  },
  {
   "cell_type": "code",
   "execution_count": 178,
   "id": "020a353f",
   "metadata": {},
   "outputs": [
    {
     "data": {
      "text/plain": [
       "10"
      ]
     },
     "execution_count": 178,
     "metadata": {},
     "output_type": "execute_result"
    }
   ],
   "source": [
    "min(number)"
   ]
  },
  {
   "cell_type": "code",
   "execution_count": 179,
   "id": "d089c5db",
   "metadata": {},
   "outputs": [
    {
     "data": {
      "text/plain": [
       "150"
      ]
     },
     "execution_count": 179,
     "metadata": {},
     "output_type": "execute_result"
    }
   ],
   "source": [
    "sum(number)"
   ]
  },
  {
   "cell_type": "code",
   "execution_count": null,
   "id": "33b5250e",
   "metadata": {},
   "outputs": [
    {
     "ename": "NameError",
     "evalue": "name 'mean' is not defined",
     "output_type": "error",
     "traceback": [
      "\u001b[31m---------------------------------------------------------------------------\u001b[39m",
      "\u001b[31mNameError\u001b[39m                                 Traceback (most recent call last)",
      "\u001b[36mCell\u001b[39m\u001b[36m \u001b[39m\u001b[32mIn[180]\u001b[39m\u001b[32m, line 1\u001b[39m\n\u001b[32m----> \u001b[39m\u001b[32m1\u001b[39m \u001b[43mmean\u001b[49m(number)\n",
      "\u001b[31mNameError\u001b[39m: name 'mean' is not defined"
     ]
    }
   ],
   "source": []
  },
  {
   "cell_type": "code",
   "execution_count": 182,
   "id": "b872463e",
   "metadata": {},
   "outputs": [
    {
     "data": {
      "text/plain": [
       "30.0"
      ]
     },
     "execution_count": 182,
     "metadata": {},
     "output_type": "execute_result"
    }
   ],
   "source": [
    "sum(number)/len(number)"
   ]
  },
  {
   "cell_type": "code",
   "execution_count": 183,
   "id": "9037f217",
   "metadata": {},
   "outputs": [],
   "source": [
    "numbers = [1, 2, 3, 4, 5, 6, 7, 8, 9]"
   ]
  },
  {
   "cell_type": "code",
   "execution_count": 184,
   "id": "e4d404c9",
   "metadata": {},
   "outputs": [],
   "source": [
    "number = [i for i in range(10)]"
   ]
  },
  {
   "cell_type": "code",
   "execution_count": 185,
   "id": "5174a8f6",
   "metadata": {},
   "outputs": [
    {
     "data": {
      "text/plain": [
       "[0, 1, 2, 3, 4, 5, 6, 7, 8, 9]"
      ]
     },
     "execution_count": 185,
     "metadata": {},
     "output_type": "execute_result"
    }
   ],
   "source": [
    "number"
   ]
  }
 ],
 "metadata": {
  "kernelspec": {
   "display_name": "Python 3",
   "language": "python",
   "name": "python3"
  },
  "language_info": {
   "codemirror_mode": {
    "name": "ipython",
    "version": 3
   },
   "file_extension": ".py",
   "mimetype": "text/x-python",
   "name": "python",
   "nbconvert_exporter": "python",
   "pygments_lexer": "ipython3",
   "version": "3.11.8"
  }
 },
 "nbformat": 4,
 "nbformat_minor": 5
}
