{
 "cells": [
  {
   "cell_type": "code",
   "execution_count": 1,
   "id": "caf60205",
   "metadata": {},
   "outputs": [
    {
     "name": "stdout",
     "output_type": "stream",
     "text": [
      "안녕 이제 파이썬을 시작하려고 해\n"
     ]
    }
   ],
   "source": [
    "print(\"안녕 이제 파이썬을 시작하려고 해\")"
   ]
  },
  {
   "cell_type": "code",
   "execution_count": 2,
   "id": "616b32cc",
   "metadata": {},
   "outputs": [
    {
     "ename": "NameError",
     "evalue": "name 'hello' is not defined",
     "output_type": "error",
     "traceback": [
      "\u001b[31m---------------------------------------------------------------------------\u001b[39m",
      "\u001b[31mNameError\u001b[39m                                 Traceback (most recent call last)",
      "\u001b[36mCell\u001b[39m\u001b[36m \u001b[39m\u001b[32mIn[2]\u001b[39m\u001b[32m, line 1\u001b[39m\n\u001b[32m----> \u001b[39m\u001b[32m1\u001b[39m \u001b[43mhello\u001b[49m\n",
      "\u001b[31mNameError\u001b[39m: name 'hello' is not defined"
     ]
    }
   ],
   "source": [
    "hello"
   ]
  },
  {
   "cell_type": "code",
   "execution_count": 3,
   "id": "b5a31d37",
   "metadata": {},
   "outputs": [
    {
     "data": {
      "text/plain": [
       "str"
      ]
     },
     "execution_count": 3,
     "metadata": {},
     "output_type": "execute_result"
    }
   ],
   "source": [
    "type('hi')"
   ]
  },
  {
   "cell_type": "code",
   "execution_count": 4,
   "id": "72601c9d",
   "metadata": {},
   "outputs": [
    {
     "data": {
      "text/plain": [
       "int"
      ]
     },
     "execution_count": 4,
     "metadata": {},
     "output_type": "execute_result"
    }
   ],
   "source": [
    "type(100)"
   ]
  },
  {
   "cell_type": "code",
   "execution_count": 5,
   "id": "72641df5",
   "metadata": {},
   "outputs": [
    {
     "data": {
      "text/plain": [
       "str"
      ]
     },
     "execution_count": 5,
     "metadata": {},
     "output_type": "execute_result"
    }
   ],
   "source": [
    "type('100')"
   ]
  },
  {
   "cell_type": "code",
   "execution_count": 6,
   "id": "a2fc2add",
   "metadata": {},
   "outputs": [
    {
     "name": "stdout",
     "output_type": "stream",
     "text": [
      "100\n"
     ]
    }
   ],
   "source": [
    "mynumber=100\n",
    "print(mynumber)"
   ]
  },
  {
   "cell_type": "code",
   "execution_count": 7,
   "id": "956c9acc",
   "metadata": {},
   "outputs": [
    {
     "data": {
      "text/plain": [
       "110"
      ]
     },
     "execution_count": 7,
     "metadata": {},
     "output_type": "execute_result"
    }
   ],
   "source": [
    "mynumber+10"
   ]
  },
  {
   "cell_type": "code",
   "execution_count": 12,
   "id": "6d1cf130",
   "metadata": {},
   "outputs": [
    {
     "name": "stdout",
     "output_type": "stream",
     "text": [
      "20.5\n"
     ]
    }
   ],
   "source": [
    "hernumber=10.5\n",
    "print(hernumber+10)"
   ]
  },
  {
   "cell_type": "code",
   "execution_count": 14,
   "id": "3645ffa1",
   "metadata": {},
   "outputs": [
    {
     "data": {
      "text/plain": [
       "float"
      ]
     },
     "execution_count": 14,
     "metadata": {},
     "output_type": "execute_result"
    }
   ],
   "source": [
    "type(hernumber)"
   ]
  },
  {
   "cell_type": "code",
   "execution_count": 15,
   "id": "587aaa77",
   "metadata": {},
   "outputs": [
    {
     "data": {
      "text/plain": [
       "int"
      ]
     },
     "execution_count": 15,
     "metadata": {},
     "output_type": "execute_result"
    }
   ],
   "source": [
    "type(mynumber)"
   ]
  },
  {
   "cell_type": "code",
   "execution_count": 16,
   "id": "7cd46204",
   "metadata": {},
   "outputs": [
    {
     "data": {
      "text/plain": [
       "2.2"
      ]
     },
     "execution_count": 16,
     "metadata": {},
     "output_type": "execute_result"
    }
   ],
   "source": [
    "num1 = 10\n",
    "num2 = 22\n",
    "num2/num1"
   ]
  },
  {
   "cell_type": "code",
   "execution_count": 17,
   "id": "993e59f0",
   "metadata": {},
   "outputs": [
    {
     "data": {
      "text/plain": [
       "2"
      ]
     },
     "execution_count": 17,
     "metadata": {},
     "output_type": "execute_result"
    }
   ],
   "source": [
    "num2//num1"
   ]
  },
  {
   "cell_type": "code",
   "execution_count": 18,
   "id": "dd88f604",
   "metadata": {},
   "outputs": [
    {
     "data": {
      "text/plain": [
       "10000000000000000000000"
      ]
     },
     "execution_count": 18,
     "metadata": {},
     "output_type": "execute_result"
    }
   ],
   "source": [
    "num1**num2"
   ]
  },
  {
   "cell_type": "code",
   "execution_count": 19,
   "id": "ffc23db8",
   "metadata": {},
   "outputs": [
    {
     "data": {
      "text/plain": [
       "220"
      ]
     },
     "execution_count": 19,
     "metadata": {},
     "output_type": "execute_result"
    }
   ],
   "source": [
    "num1*num2"
   ]
  },
  {
   "cell_type": "code",
   "execution_count": 20,
   "id": "f90a8c03",
   "metadata": {},
   "outputs": [
    {
     "data": {
      "text/plain": [
       "2"
      ]
     },
     "execution_count": 20,
     "metadata": {},
     "output_type": "execute_result"
    }
   ],
   "source": [
    "num2%num1"
   ]
  },
  {
   "cell_type": "code",
   "execution_count": 21,
   "id": "07b6ef06",
   "metadata": {},
   "outputs": [
    {
     "data": {
      "text/plain": [
       "8"
      ]
     },
     "execution_count": 21,
     "metadata": {},
     "output_type": "execute_result"
    }
   ],
   "source": [
    "2**3"
   ]
  },
  {
   "cell_type": "code",
   "execution_count": 22,
   "id": "4a2ed4b5",
   "metadata": {},
   "outputs": [
    {
     "data": {
      "text/plain": [
       "'worldworld'"
      ]
     },
     "execution_count": 22,
     "metadata": {},
     "output_type": "execute_result"
    }
   ],
   "source": [
    "num1 = 2\n",
    "str1 = \"hello\"\n",
    "str2= \"world\"\n",
    "str2 * num1"
   ]
  },
  {
   "cell_type": "code",
   "execution_count": 23,
   "id": "05babb71",
   "metadata": {},
   "outputs": [
    {
     "data": {
      "text/plain": [
       "'worldworld'"
      ]
     },
     "execution_count": 23,
     "metadata": {},
     "output_type": "execute_result"
    }
   ],
   "source": [
    "num1* str2"
   ]
  },
  {
   "cell_type": "code",
   "execution_count": 24,
   "id": "97b72306",
   "metadata": {},
   "outputs": [
    {
     "data": {
      "text/plain": [
       "'helloworld'"
      ]
     },
     "execution_count": 24,
     "metadata": {},
     "output_type": "execute_result"
    }
   ],
   "source": [
    "str1 + str2"
   ]
  },
  {
   "cell_type": "code",
   "execution_count": 25,
   "id": "48c94105",
   "metadata": {},
   "outputs": [
    {
     "data": {
      "text/plain": [
       "True"
      ]
     },
     "execution_count": 25,
     "metadata": {},
     "output_type": "execute_result"
    }
   ],
   "source": [
    "#비교 연산자\n",
    "mynumber = 100\n",
    "mynumber > 10"
   ]
  },
  {
   "cell_type": "code",
   "execution_count": 26,
   "id": "4fa4e289",
   "metadata": {},
   "outputs": [
    {
     "data": {
      "text/plain": [
       "True"
      ]
     },
     "execution_count": 26,
     "metadata": {},
     "output_type": "execute_result"
    }
   ],
   "source": [
    "5!=7"
   ]
  },
  {
   "cell_type": "code",
   "execution_count": 27,
   "id": "311ba6f0",
   "metadata": {},
   "outputs": [],
   "source": [
    "str1 = \"hello\"\n",
    "str2= \"world\""
   ]
  },
  {
   "cell_type": "code",
   "execution_count": 28,
   "id": "6f54e8f6",
   "metadata": {},
   "outputs": [
    {
     "name": "stdout",
     "output_type": "stream",
     "text": [
      "helloworld\n"
     ]
    }
   ],
   "source": [
    "print(str1 + str2)"
   ]
  },
  {
   "cell_type": "code",
   "execution_count": 30,
   "id": "c9511fde",
   "metadata": {},
   "outputs": [
    {
     "name": "stdout",
     "output_type": "stream",
     "text": [
      "hello world\n"
     ]
    }
   ],
   "source": [
    "print(str1 + \" \" + str2)"
   ]
  },
  {
   "cell_type": "code",
   "execution_count": 31,
   "id": "ab02b771",
   "metadata": {},
   "outputs": [
    {
     "name": "stdout",
     "output_type": "stream",
     "text": [
      "hello world\n"
     ]
    }
   ],
   "source": [
    "print(str1, str2)"
   ]
  },
  {
   "cell_type": "code",
   "execution_count": 32,
   "id": "24317d23",
   "metadata": {},
   "outputs": [
    {
     "data": {
      "text/plain": [
       "'안녕'"
      ]
     },
     "execution_count": 32,
     "metadata": {},
     "output_type": "execute_result"
    }
   ],
   "source": [
    "input()"
   ]
  },
  {
   "cell_type": "code",
   "execution_count": 34,
   "id": "9462cfd6",
   "metadata": {},
   "outputs": [
    {
     "name": "stdout",
     "output_type": "stream",
     "text": [
      "제 이름은 홍길동 입니다\n"
     ]
    }
   ],
   "source": [
    "name = input()\n",
    "print(\"제 이름은\", name,\"입니다\")"
   ]
  },
  {
   "cell_type": "code",
   "execution_count": 35,
   "id": "e385a827",
   "metadata": {},
   "outputs": [],
   "source": [
    "num1 = 7\n",
    "num2 = 3"
   ]
  },
  {
   "cell_type": "code",
   "execution_count": 41,
   "id": "1b425ea4",
   "metadata": {},
   "outputs": [
    {
     "name": "stdout",
     "output_type": "stream",
     "text": [
      "73\n"
     ]
    },
    {
     "ename": "TypeError",
     "evalue": "unsupported operand type(s) for -: 'str' and 'str'",
     "output_type": "error",
     "traceback": [
      "\u001b[31m---------------------------------------------------------------------------\u001b[39m",
      "\u001b[31mTypeError\u001b[39m                                 Traceback (most recent call last)",
      "\u001b[36mCell\u001b[39m\u001b[36m \u001b[39m\u001b[32mIn[41]\u001b[39m\u001b[32m, line 5\u001b[39m\n\u001b[32m      2\u001b[39m num2 = \u001b[38;5;28minput\u001b[39m(\u001b[33m\"\u001b[39m\u001b[33m두 번째 숫자를 입력하세요: \u001b[39m\u001b[33m\"\u001b[39m)\n\u001b[32m      4\u001b[39m \u001b[38;5;28mprint\u001b[39m(num1 + num2)\n\u001b[32m----> \u001b[39m\u001b[32m5\u001b[39m \u001b[38;5;28mprint\u001b[39m(\u001b[43mnum1\u001b[49m\u001b[43m \u001b[49m\u001b[43m-\u001b[49m\u001b[43m \u001b[49m\u001b[43mnum2\u001b[49m)\n\u001b[32m      6\u001b[39m \u001b[38;5;28mprint\u001b[39m(num1 * num2)\n\u001b[32m      7\u001b[39m \u001b[38;5;28mprint\u001b[39m(num1 / num2)\n",
      "\u001b[31mTypeError\u001b[39m: unsupported operand type(s) for -: 'str' and 'str'"
     ]
    }
   ],
   "source": [
    "num1 = input(\"첫 번째 숫자를 입력하세요: \")\n",
    "num2 = input(\"두 번째 숫자를 입력하세요: \")\n",
    "\n",
    "print(num1 + num2)\n",
    "print(num1 - num2)\n",
    "print(num1 * num2)\n",
    "print(num1 / num2)"
   ]
  },
  {
   "cell_type": "code",
   "execution_count": 38,
   "id": "408b17c3",
   "metadata": {},
   "outputs": [
    {
     "data": {
      "text/plain": [
       "str"
      ]
     },
     "execution_count": 38,
     "metadata": {},
     "output_type": "execute_result"
    }
   ],
   "source": [
    "type(num1)"
   ]
  },
  {
   "cell_type": "code",
   "execution_count": 39,
   "id": "d701ad27",
   "metadata": {},
   "outputs": [
    {
     "data": {
      "text/plain": [
       "str"
      ]
     },
     "execution_count": 39,
     "metadata": {},
     "output_type": "execute_result"
    }
   ],
   "source": [
    "type(num2)"
   ]
  },
  {
   "cell_type": "code",
   "execution_count": 45,
   "id": "12f0ea5b",
   "metadata": {},
   "outputs": [
    {
     "name": "stdout",
     "output_type": "stream",
     "text": [
      "10\n",
      "4\n",
      "21\n",
      "2.3333333333333335\n",
      "나눗셈 결과: 2.3333333333333335\n",
      "몫: 2\n",
      "나머지: 1\n"
     ]
    }
   ],
   "source": [
    "num1 = int(input(\"첫 번째 숫자를 입력하세요: \"))\n",
    "num2 = int(input(\"두 번째 숫자를 입력하세요: \"))\n",
    "\n",
    "print(num1 + num2)\n",
    "print(num1 - num2)\n",
    "print(num1 * num2)\n",
    "print(num1 / num2)\n",
    "# 나눗셈은 0으로 나누는 오류 방지\n",
    "if num2 != 0:\n",
    "    print(\"나눗셈 결과:\", num1 / num2)\n",
    "    print(\"몫:\", num1 // num2)\n",
    "    print(\"나머지:\", num1 % num2)\n",
    "else:\n",
    "    print(\"0으로 나눌 수 없습니다.\")\n"
   ]
  },
  {
   "cell_type": "code",
   "execution_count": 47,
   "id": "3073a970",
   "metadata": {},
   "outputs": [
    {
     "name": "stdout",
     "output_type": "stream",
     "text": [
      "선생님이\"참잘했어요\"칭찬했다\n"
     ]
    }
   ],
   "source": [
    "print(\"선생님이\\\"참잘했어요\\\"칭찬했다\")"
   ]
  },
  {
   "cell_type": "code",
   "execution_count": 51,
   "id": "899fd6e5",
   "metadata": {},
   "outputs": [],
   "source": [
    "sentence = \"\"\"\n",
    "안녕\n",
    "좋은아침\n",
    "잘가\n",
    "\"\"\""
   ]
  },
  {
   "cell_type": "code",
   "execution_count": 52,
   "id": "2052a54e",
   "metadata": {},
   "outputs": [
    {
     "name": "stdout",
     "output_type": "stream",
     "text": [
      "\n",
      "안녕\n",
      "좋은아침\n",
      "잘가\n",
      "\n"
     ]
    }
   ],
   "source": [
    "print(sentence)"
   ]
  },
  {
   "cell_type": "code",
   "execution_count": 53,
   "id": "3940b658",
   "metadata": {},
   "outputs": [
    {
     "name": "stdout",
     "output_type": "stream",
     "text": [
      "'낮말'은 새가 듣고 '밤말'은 쥐가 듣는다\n"
     ]
    }
   ],
   "source": [
    "print(\"'낮말'은 새가 듣고 '밤말'은 쥐가 듣는다\")"
   ]
  },
  {
   "cell_type": "code",
   "execution_count": 54,
   "id": "db6ba114",
   "metadata": {},
   "outputs": [
    {
     "name": "stdout",
     "output_type": "stream",
     "text": [
      "Hello\n",
      "Hello\n",
      "Hello\n"
     ]
    }
   ],
   "source": [
    "print(\"Hello\")\n",
    "print(\"Hello\")\n",
    "print(\"Hello\")"
   ]
  },
  {
   "cell_type": "code",
   "execution_count": 55,
   "id": "5467f26b",
   "metadata": {},
   "outputs": [
    {
     "name": "stdout",
     "output_type": "stream",
     "text": [
      "HelloHelloHello\n"
     ]
    }
   ],
   "source": [
    "print(\"Hello\" * 3)"
   ]
  },
  {
   "cell_type": "code",
   "execution_count": 56,
   "id": "dc03f119",
   "metadata": {},
   "outputs": [
    {
     "name": "stdout",
     "output_type": "stream",
     "text": [
      "Hello Hello Hello\n"
     ]
    }
   ],
   "source": [
    "print(\"Hello\",\"Hello\",\"Hello\")"
   ]
  },
  {
   "cell_type": "code",
   "execution_count": 57,
   "id": "66834da3",
   "metadata": {},
   "outputs": [
    {
     "name": "stdout",
     "output_type": "stream",
     "text": [
      "Hello,"
     ]
    }
   ],
   "source": [
    "print(\"Hello\", end=\",\")"
   ]
  },
  {
   "cell_type": "code",
   "execution_count": 58,
   "id": "79e28468",
   "metadata": {},
   "outputs": [
    {
     "name": "stdout",
     "output_type": "stream",
     "text": [
      "Hello Hello Hello,"
     ]
    }
   ],
   "source": [
    "print(\"Hello\",\"Hello\",\"Hello\", end=\",\")"
   ]
  },
  {
   "cell_type": "code",
   "execution_count": 60,
   "id": "51ea3784",
   "metadata": {},
   "outputs": [
    {
     "name": "stdout",
     "output_type": "stream",
     "text": [
      "더하기의 결과 : 5 + 6 = 11\n"
     ]
    }
   ],
   "source": [
    "num1 = 5\n",
    "num2 = 6\n",
    "\n",
    "print(f\"더하기의 결과 : {num1} + {num2} = {num1+num2}\")"
   ]
  },
  {
   "cell_type": "code",
   "execution_count": 61,
   "id": "4401d9a7",
   "metadata": {},
   "outputs": [
    {
     "name": "stdout",
     "output_type": "stream",
     "text": [
      "더하기의 결과 : {num1} + {num2} = {num1+num2}\n"
     ]
    }
   ],
   "source": [
    "num1 = 5\n",
    "num2 = 6\n",
    "\n",
    "print(\"더하기의 결과 : {num1} + {num2} = {num1+num2}\")"
   ]
  },
  {
   "cell_type": "code",
   "execution_count": 62,
   "id": "19f95bd1",
   "metadata": {},
   "outputs": [
    {
     "data": {
      "text/plain": [
       "False"
      ]
     },
     "execution_count": 62,
     "metadata": {},
     "output_type": "execute_result"
    }
   ],
   "source": [
    "1==2"
   ]
  },
  {
   "cell_type": "code",
   "execution_count": 63,
   "id": "20c7a8b1",
   "metadata": {},
   "outputs": [
    {
     "data": {
      "text/plain": [
       "bool"
      ]
     },
     "execution_count": 63,
     "metadata": {},
     "output_type": "execute_result"
    }
   ],
   "source": [
    "type(True)"
   ]
  },
  {
   "cell_type": "code",
   "execution_count": 64,
   "id": "26f3d687",
   "metadata": {},
   "outputs": [
    {
     "name": "stdout",
     "output_type": "stream",
     "text": [
      "<class 'bool'>\n"
     ]
    }
   ],
   "source": [
    "print(type(True))"
   ]
  },
  {
   "cell_type": "code",
   "execution_count": 65,
   "id": "27fd553c",
   "metadata": {},
   "outputs": [
    {
     "data": {
      "text/plain": [
       "False"
      ]
     },
     "execution_count": 65,
     "metadata": {},
     "output_type": "execute_result"
    }
   ],
   "source": [
    "bool(0)"
   ]
  },
  {
   "cell_type": "code",
   "execution_count": 66,
   "id": "c4b35536",
   "metadata": {},
   "outputs": [
    {
     "data": {
      "text/plain": [
       "True"
      ]
     },
     "execution_count": 66,
     "metadata": {},
     "output_type": "execute_result"
    }
   ],
   "source": [
    "bool(1)"
   ]
  },
  {
   "cell_type": "code",
   "execution_count": 67,
   "id": "779772ed",
   "metadata": {},
   "outputs": [
    {
     "data": {
      "text/plain": [
       "True"
      ]
     },
     "execution_count": 67,
     "metadata": {},
     "output_type": "execute_result"
    }
   ],
   "source": [
    "bool(100)"
   ]
  },
  {
   "cell_type": "code",
   "execution_count": 68,
   "id": "2113d246",
   "metadata": {},
   "outputs": [
    {
     "data": {
      "text/plain": [
       "True"
      ]
     },
     "execution_count": 68,
     "metadata": {},
     "output_type": "execute_result"
    }
   ],
   "source": [
    "bool(-1)"
   ]
  },
  {
   "cell_type": "code",
   "execution_count": 69,
   "id": "e40eed65",
   "metadata": {},
   "outputs": [
    {
     "data": {
      "text/plain": [
       "False"
      ]
     },
     "execution_count": 69,
     "metadata": {},
     "output_type": "execute_result"
    }
   ],
   "source": [
    "bool('')"
   ]
  },
  {
   "cell_type": "code",
   "execution_count": 70,
   "id": "c8be9330",
   "metadata": {},
   "outputs": [
    {
     "data": {
      "text/plain": [
       "False"
      ]
     },
     "execution_count": 70,
     "metadata": {},
     "output_type": "execute_result"
    }
   ],
   "source": [
    "bool(\"\")"
   ]
  },
  {
   "cell_type": "code",
   "execution_count": 71,
   "id": "6b03d525",
   "metadata": {},
   "outputs": [
    {
     "data": {
      "text/plain": [
       "False"
      ]
     },
     "execution_count": 71,
     "metadata": {},
     "output_type": "execute_result"
    }
   ],
   "source": [
    "bool()"
   ]
  },
  {
   "cell_type": "code",
   "execution_count": null,
   "id": "8a8ff757",
   "metadata": {},
   "outputs": [
    {
     "name": "stdout",
     "output_type": "stream",
     "text": [
      "\n",
      "메뉴판\n",
      "김밥 : 3,000원\n",
      "떢볶이 : 3,500원\n",
      "라면 : 2,500원\n",
      "\n",
      "지불하실 금액은 14500원 입니다.\n"
     ]
    }
   ],
   "source": [
    "menu1 = int(input(\"김밥주문갯수 : \"))\n",
    "menu2 = int(input(\"떢볶이주문갯수 : \"))\n",
    "menu3 = int(input(\"라면주문갯수 : \"))\n",
    "\n",
    "print(f\"\"\"\n",
    "메뉴판\n",
    "김밥 : 3,000원\n",
    "떢볶이 : 3,500원\n",
    "라면 : 2,500원\n",
    "\n",
    "지불하실 금액은 {menu1*3000+menu2*3500+menu3*2500}원 입니다.\"\"\"\"\")"
   ]
  },
  {
   "cell_type": "code",
   "execution_count": 86,
   "id": "ee8b777e",
   "metadata": {},
   "outputs": [
    {
     "name": "stdout",
     "output_type": "stream",
     "text": [
      "메뉴판\n",
      " 김밥 : 3,000원\n",
      " 떢볶이 : 3,500원\n",
      " 라면 : 2,500원\n",
      "주문 갯수 \n",
      " 김밥2+떡볶이1+라면1\n",
      "지불하실 금액은 14500 원 입니다.\n"
     ]
    }
   ],
   "source": [
    "menu1 = int(input(\"김밥주문갯수 : \"))\n",
    "menu2 = int(input(\"떢볶이주문갯수 : \"))\n",
    "menu3 = int(input(\"라면주문갯수 : \"))\n",
    "\n",
    "print(\"메뉴판\\n 김밥 : 3,000원\\n 떢볶이 : 3,500원\\n 라면 : 2,500원\")\n",
    "\n",
    "print(\"주문 갯수 \\n 김밥2+떡볶이1+라면1\")\n",
    "\n",
    "print(\"지불하실 금액은\",menu1*3000+menu2*3500+menu3*2500,\"원 입니다.\")"
   ]
  },
  {
   "cell_type": "code",
   "execution_count": 103,
   "id": "4080359f",
   "metadata": {},
   "outputs": [
    {
     "name": "stdout",
     "output_type": "stream",
     "text": [
      "메뉴판\n",
      " 김밥 : 3,000원 떢볶이 : 3,500원 라면 : 2,500원\n",
      "주문 갯수 \n",
      " 김밥 2,떡볶이 1, 라면 2\n",
      "\n",
      "메뉴판\n",
      "김밥 : 3000원\n",
      "떢볶이 : 3500원\n",
      "라면 : 2500원\n",
      "\n",
      "지불하실 금액은 14500원 입니다.\n"
     ]
    }
   ],
   "source": [
    "menu1 = int(input(\"김밥주문갯수 : \"))\n",
    "menu2 = int(input(\"떢볶이주문갯수 : \"))\n",
    "menu3 = int(input(\"라면주문갯수 : \"))\n",
    "\n",
    "print(\"메뉴판\\n 김밥 : 3,000원 떢볶이 : 3,500원 라면 : 2,500원\", sep=\"\\n\")\n",
    "\n",
    "print(f\"주문 갯수 \\n 김밥 {menu1},떡볶이 {menu2}, 라면 {menu3}\")\n",
    "\n",
    "m1 = 3000\n",
    "m2 = 3500\n",
    "m3 = 2500\n",
    "\n",
    "\n",
    "print(f\"\"\"\n",
    "메뉴판\n",
    "김밥 : {m1}원\n",
    "떢볶이 : {m2}원\n",
    "라면 : {m3}원\n",
    "\n",
    "지불하실 금액은 {menu1*3000+menu2*3500+menu3*2500}원 입니다.\"\"\"\"\")"
   ]
  },
  {
   "cell_type": "code",
   "execution_count": null,
   "id": "26196339",
   "metadata": {},
   "outputs": [
    {
     "name": "stdout",
     "output_type": "stream",
     "text": [
      "스테이크 먹는다\n",
      "True\n"
     ]
    }
   ],
   "source": [
    "money = True\n",
    "\n",
    "if money:\n",
    "    print(\"스테이크 먹는다\")\n",
    "\n",
    "print(money)"
   ]
  },
  {
   "cell_type": "code",
   "execution_count": null,
   "id": "5c678de4",
   "metadata": {},
   "outputs": [],
   "source": [
    "money = False\n",
    "\n",
    "if money:\n",
    "    print(\"스테이크 먹는다\")\n",
    "\n",
    "print(\"조건문 종료\")"
   ]
  },
  {
   "cell_type": "code",
   "execution_count": 96,
   "id": "623816aa",
   "metadata": {},
   "outputs": [
    {
     "name": "stdout",
     "output_type": "stream",
     "text": [
      "조건문 종료\n"
     ]
    }
   ],
   "source": [
    "money = False\n",
    "\n",
    "if money:\n",
    "    print(\"스테이크 먹는다\")\n",
    "    print(\"블루보틀 커피 마신다\")\n",
    "    print(\"택시 탄다\")\n",
    "\n",
    "print(\"조건문 종료\")"
   ]
  },
  {
   "cell_type": "code",
   "execution_count": 97,
   "id": "fcf78203",
   "metadata": {},
   "outputs": [
    {
     "name": "stdout",
     "output_type": "stream",
     "text": [
      "라면 먹는다\n"
     ]
    }
   ],
   "source": [
    "money = False\n",
    "\n",
    "if money:\n",
    "    print(\"스테이크 먹는다\")\n",
    "    print(\"블루보틀 커피 마신다\")\n",
    "    print(\"택시 탄다\")\n",
    "else:\n",
    "    print(\"라면 먹는다\")"
   ]
  },
  {
   "cell_type": "code",
   "execution_count": 106,
   "id": "f3b316b9",
   "metadata": {},
   "outputs": [
    {
     "name": "stdout",
     "output_type": "stream",
     "text": [
      "Odd\n"
     ]
    }
   ],
   "source": [
    "num = 3\n",
    "\n",
    "if num % 2 == 0:\n",
    "    print('Even')\n",
    "else: \n",
    "        print('Odd')"
   ]
  },
  {
   "cell_type": "code",
   "execution_count": 109,
   "id": "30681402",
   "metadata": {},
   "outputs": [
    {
     "name": "stdout",
     "output_type": "stream",
     "text": [
      "Odd\n"
     ]
    }
   ],
   "source": [
    "num1 = int(input(\"숫자 : \"))\n",
    "\n",
    "if num1 % 2 == 0:\n",
    "    print('Even')\n",
    "else: \n",
    "        print('Odd')"
   ]
  },
  {
   "cell_type": "code",
   "execution_count": 111,
   "id": "4264c2e1",
   "metadata": {},
   "outputs": [
    {
     "name": "stdout",
     "output_type": "stream",
     "text": [
      "더 노력하세요.\n"
     ]
    }
   ],
   "source": [
    "eng = 80\n",
    "math = 100\n",
    "if eng >= 90 and math >= 90:\n",
    "    print(\"참 잘했어요!\")\n",
    "else: \n",
    "    print('더 노력하세요.')\n"
   ]
  },
  {
   "cell_type": "code",
   "execution_count": 113,
   "id": "0d379dc6",
   "metadata": {},
   "outputs": [
    {
     "name": "stdout",
     "output_type": "stream",
     "text": [
      "참 잘했어요!\n"
     ]
    }
   ],
   "source": [
    "eng = int(input(\"영어 점수 : \"))\n",
    "math = int(input(\"수학 점수 : \"))\n",
    "if eng >= 90 and math >= 90:\n",
    "    print(\"참 잘했어요!\")\n",
    "else: \n",
    "    print('더 노력하세요.')\n"
   ]
  },
  {
   "cell_type": "code",
   "execution_count": null,
   "id": "7253e980",
   "metadata": {},
   "outputs": [
    {
     "name": "stdout",
     "output_type": "stream",
     "text": [
      "짝수입니다.\n"
     ]
    }
   ],
   "source": [
    "num = int(input(\"숫자를 입력하세요 : \"))\n",
    "\n",
    "if num1 % 2 == 0:\n",
    "    print('짝수입니다')\n",
    "else: \n",
    "    print('홀수입니다.')\n"
   ]
  },
  {
   "cell_type": "code",
   "execution_count": null,
   "id": "24b92ada",
   "metadata": {},
   "outputs": [],
   "source": []
  }
 ],
 "metadata": {
  "kernelspec": {
   "display_name": "Python 3",
   "language": "python",
   "name": "python3"
  },
  "language_info": {
   "codemirror_mode": {
    "name": "ipython",
    "version": 3
   },
   "file_extension": ".py",
   "mimetype": "text/x-python",
   "name": "python",
   "nbconvert_exporter": "python",
   "pygments_lexer": "ipython3",
   "version": "3.11.8"
  }
 },
 "nbformat": 4,
 "nbformat_minor": 5
}
