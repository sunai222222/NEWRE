{
 "cells": [
  {
   "cell_type": "code",
   "execution_count": null,
   "id": "2dc2ae90",
   "metadata": {},
   "outputs": [
    {
     "name": "stdout",
     "output_type": "stream",
     "text": [
      "Hello #MS.\n"
     ]
    }
   ],
   "source": [
    "print(\"Hello #MS.\")"
   ]
  },
  {
   "cell_type": "code",
   "execution_count": null,
   "id": "2914bd66",
   "metadata": {},
   "outputs": [],
   "source": [
    "def say_myself(name, age, man=True):\n",
    "    print(\"내 이름은 %s 입니다.\" % name)\n",
    "    print(\"내 나이는 %d 입니다.\" % age)\n",
    "    if man:\n",
    "        print(\"남자\")\n",
    "    else:\n",
    "        print(\"여자\")"
   ]
  },
  {
   "cell_type": "code",
   "execution_count": null,
   "id": "3f1ba094",
   "metadata": {},
   "outputs": [
    {
     "data": {
      "text/plain": [
       "function"
      ]
     },
     "metadata": {},
     "output_type": "display_data"
    }
   ],
   "source": [
    "type(say_myself)"
   ]
  },
  {
   "cell_type": "code",
   "execution_count": null,
   "id": "95b73584",
   "metadata": {},
   "outputs": [],
   "source": [
    "def say_myself(name, age, man=True):\n",
    "    print(f\"{name}, {age}\")\n",
    "    print(man)"
   ]
  },
  {
   "cell_type": "code",
   "execution_count": null,
   "id": "e3172c25",
   "metadata": {},
   "outputs": [
    {
     "name": "stdout",
     "output_type": "stream",
     "text": [
      "na, 22\n",
      "True\n"
     ]
    }
   ],
   "source": [
    "say_myself(\"na\", 22, True)"
   ]
  },
  {
   "cell_type": "code",
   "execution_count": null,
   "id": "43ad0721",
   "metadata": {},
   "outputs": [
    {
     "name": "stdout",
     "output_type": "stream",
     "text": [
      "None\n",
      "1\n"
     ]
    }
   ],
   "source": [
    "a = 1\n",
    "\n",
    "def vartest(a):\n",
    "    a = a + 1\n",
    "\n",
    "print(vartest(a))\n",
    "print(a)"
   ]
  },
  {
   "cell_type": "code",
   "execution_count": null,
   "id": "3e9a3218",
   "metadata": {},
   "outputs": [
    {
     "name": "stdout",
     "output_type": "stream",
     "text": [
      "None\n"
     ]
    },
    {
     "ename": "NameError",
     "evalue": "name 'a' is not defined",
     "output_type": "error",
     "traceback": [
      "\u001b[31m---------------------------------------------------------------------------\u001b[39m\n",
      "\u001b[31mNameError\u001b[39m                                 Traceback (most recent call last)\n",
      "\u001b[36mCell\u001b[39m\u001b[36m \u001b[39m\u001b[32mIn[1]\u001b[39m\u001b[32m, line 5\u001b[39m\n",
      "\u001b[32m      2\u001b[39m     a = a + \u001b[32m1\u001b[39m\n",
      "\u001b[32m      4\u001b[39m \u001b[38;5;28mprint\u001b[39m(vartest(\u001b[32m3\u001b[39m))\n",
      "\u001b[32m----> \u001b[39m\u001b[32m5\u001b[39m \u001b[38;5;28mprint\u001b[39m(\u001b[43ma\u001b[49m)\n",
      "\n",
      "\u001b[31mNameError\u001b[39m: name 'a' is not defined"
     ]
    }
   ],
   "source": [
    "def vartest(a):\n",
    "    a = a + 1\n",
    "\n",
    "print(vartest(3))\n",
    "print(a)"
   ]
  },
  {
   "cell_type": "code",
   "execution_count": null,
   "id": "08c19843",
   "metadata": {},
   "outputs": [
    {
     "name": "stdout",
     "output_type": "stream",
     "text": [
      "Hello P\n"
     ]
    }
   ],
   "source": [
    "print(\"Hello\", \"P\", sep=\" \")"
   ]
  },
  {
   "cell_type": "code",
   "execution_count": null,
   "id": "170eae91",
   "metadata": {},
   "outputs": [
    {
     "name": "stdout",
     "output_type": "stream",
     "text": [
      "<zip object at 0x0000029F8F94FA00>\n"
     ]
    }
   ],
   "source": [
    "r = (52, 255, 39, 132)\n",
    "g = (52, 255, 39, 132)\n",
    "b = (52, 255, 39, 132)\n",
    "\n",
    "img = zip(r, g, b)\n",
    "print(img)"
   ]
  },
  {
   "cell_type": "code",
   "execution_count": null,
   "id": "c1e0e050",
   "metadata": {},
   "outputs": [
    {
     "name": "stdout",
     "output_type": "stream",
     "text": [
      "[(52, 52, 52), (255, 255, 255), (39, 39, 39), (132, 132, 132)]\n"
     ]
    }
   ],
   "source": [
    "r = (52, 255, 39, 132)\n",
    "g = (52, 255, 39, 132)\n",
    "b = (52, 255, 39, 132)\n",
    "\n",
    "img = list(zip(r, g, b))\n",
    "print(img)"
   ]
  },
  {
   "cell_type": "code",
   "execution_count": null,
   "id": "0488d713",
   "metadata": {},
   "outputs": [],
   "source": [
    "f = ('apple', 'banana', 'cherry', 'date')"
   ]
  },
  {
   "cell_type": "code",
   "execution_count": null,
   "id": "5d097e5d",
   "metadata": {},
   "outputs": [
    {
     "data": {
      "text/plain": [
       "<enumerate at 0x29f8f9c91c0>"
      ]
     },
     "metadata": {},
     "output_type": "display_data"
    }
   ],
   "source": [
    "enumerate(f)"
   ]
  },
  {
   "cell_type": "code",
   "execution_count": null,
   "id": "cc367fe8",
   "metadata": {},
   "outputs": [
    {
     "data": {
      "text/plain": [
       "{0: 'apple', 1: 'banana', 2: 'cherry', 3: 'date'}"
      ]
     },
     "metadata": {},
     "output_type": "display_data"
    }
   ],
   "source": [
    "dict(enumerate(f))"
   ]
  },
  {
   "cell_type": "code",
   "execution_count": null,
   "id": "6c830fe0",
   "metadata": {},
   "outputs": [
    {
     "name": "stdout",
     "output_type": "stream",
     "text": [
      "result1 : [2, 3, 4, 5, 6]\n"
     ]
    }
   ],
   "source": [
    "my_list = [1, 2, 3, 4, 5]\n",
    "result1 = []\n",
    "for val in my_list:\n",
    "    result1.append(val +1)\n",
    "print(f'result1 : {result1}')"
   ]
  },
  {
   "cell_type": "code",
   "execution_count": null,
   "id": "4763690c",
   "metadata": {},
   "outputs": [
    {
     "data": {
      "text/plain": [
       "[2, 3, 4, 5, 6]"
      ]
     },
     "metadata": {},
     "output_type": "display_data"
    }
   ],
   "source": [
    "my_list = [1, 2, 3, 4, 5]\n",
    "\n",
    "def add_1(n):\n",
    "    return n + 1\n",
    "result = list(map(add_1, my_list))\n",
    "result"
   ]
  },
  {
   "cell_type": "code",
   "execution_count": null,
   "id": "e1573e3f",
   "metadata": {},
   "outputs": [],
   "source": [
    " = [8, 3, 2, 10, 15, 7, 1, 0, 11]"
   ]
  },
  {
   "cell_type": "code",
   "execution_count": null,
   "id": "ce9518d0",
   "metadata": {},
   "outputs": [
    {
     "data": {
      "text/plain": [
       "[8, 7]"
      ]
     },
     "metadata": {},
     "output_type": "display_data"
    }
   ],
   "source": [
    "result = []\n",
    "\n",
    "for i in a:\n",
    "    if i > 5 and i < 10:\n",
    "        result.append(i)\n",
    "\n",
    "result\n"
   ]
  },
  {
   "cell_type": "code",
   "execution_count": null,
   "id": "1c4200f9",
   "metadata": {},
   "outputs": [],
   "source": [
    "def f(x):\n",
    "    return x > 5 and x < 10"
   ]
  },
  {
   "cell_type": "code",
   "execution_count": null,
   "id": "e0a747e0",
   "metadata": {},
   "outputs": [
    {
     "data": {
      "text/plain": [
       "[8, 7]"
      ]
     },
     "metadata": {},
     "output_type": "display_data"
    }
   ],
   "source": [
    "list(filter(f, a))  "
   ]
  },
  {
   "cell_type": "code",
   "execution_count": null,
   "id": "b0d47caa",
   "metadata": {},
   "outputs": [
    {
     "data": {
      "text/plain": [
       "[1, 4, 9, 16]"
      ]
     },
     "metadata": {},
     "output_type": "display_data"
    }
   ],
   "source": [
    "numbers1 = [1, 2, 3, 4]\n",
    "squared = list(map(lambda x : x**2, numbers1))\n",
    "squared"
   ]
  },
  {
   "cell_type": "code",
   "execution_count": null,
   "id": "2f6e55c7",
   "metadata": {},
   "outputs": [
    {
     "data": {
      "text/plain": [
       "[2, 4]"
      ]
     },
     "metadata": {},
     "output_type": "display_data"
    }
   ],
   "source": [
    "numbers2 = [1, 2, 3, 4, 5]\n",
    "even_numbers = list(filter(lambda x: x % 2 == 0, numbers2))\n",
    "even_numbers"
   ]
  },
  {
   "cell_type": "code",
   "execution_count": null,
   "id": "85f27802",
   "metadata": {},
   "outputs": [],
   "source": [
    "numbers3.sort(reverse=True)"
   ]
  },
  {
   "cell_type": "code",
   "execution_count": null,
   "id": "47554628",
   "metadata": {},
   "outputs": [],
   "source": [
    "numbers3 = [1, 2, 3, 4, 5, 6]"
   ]
  },
  {
   "cell_type": "code",
   "execution_count": null,
   "id": "041a147b",
   "metadata": {},
   "outputs": [
    {
     "data": {
      "text/plain": [
       "[1, 2, 3, 4, 5, 6]"
      ]
     },
     "metadata": {},
     "output_type": "display_data"
    }
   ],
   "source": [
    "my_numbers3 = sorted(numbers3)\n",
    "my_numbers3"
   ]
  },
  {
   "cell_type": "code",
   "execution_count": null,
   "id": "e6791dba",
   "metadata": {},
   "outputs": [],
   "source": [
    "fruits = ['apple', 'banana', 'cherry', 'date']"
   ]
  },
  {
   "cell_type": "code",
   "execution_count": null,
   "id": "34a1560d",
   "metadata": {},
   "outputs": [
    {
     "data": {
      "text/plain": [
       "['apple', 'banana', 'cherry', 'date']"
      ]
     },
     "metadata": {},
     "output_type": "display_data"
    }
   ],
   "source": [
    "fruits"
   ]
  },
  {
   "cell_type": "code",
   "execution_count": null,
   "id": "d7d73ee1",
   "metadata": {},
   "outputs": [
    {
     "data": {
      "text/plain": [
       "['date', 'apple', 'banana', 'cherry']"
      ]
     },
     "metadata": {},
     "output_type": "display_data"
    }
   ],
   "source": [
    "my_fruits = sorted(fruits, key=len)\n",
    "my_fruits"
   ]
  },
  {
   "cell_type": "code",
   "execution_count": null,
   "id": "1d7718e9",
   "metadata": {},
   "outputs": [
    {
     "data": {
      "text/plain": [
       "['banana', 'cherry', 'apple', 'date']"
      ]
     },
     "metadata": {},
     "output_type": "display_data"
    }
   ],
   "source": [
    "my_fruits = sorted(fruits, key=len, reverse=True)\n",
    "my_fruits"
   ]
  },
  {
   "cell_type": "code",
   "execution_count": null,
   "id": "1d26f2c0",
   "metadata": {},
   "outputs": [
    {
     "name": "stdout",
     "output_type": "stream",
     "text": [
      "[(5, 1), (1, 2), (3, 4)]\n"
     ]
    }
   ],
   "source": [
    "points = [(1, 2), (3, 4), (5, 1)]\n",
    "sorted_points = sorted(points, key = lambda x: x[1])\n",
    "print(sorted_points)"
   ]
  },
  {
   "cell_type": "code",
   "execution_count": null,
   "id": "02896adb",
   "metadata": {},
   "outputs": [
    {
     "data": {
      "text/plain": [
       "2"
      ]
     },
     "metadata": {},
     "output_type": "display_data"
    }
   ],
   "source": [
    "points[0][1]"
   ]
  },
  {
   "cell_type": "code",
   "execution_count": null,
   "id": "9820ed07",
   "metadata": {},
   "outputs": [
    {
     "name": "stdout",
     "output_type": "stream",
     "text": [
      "[(3, 4), (1, 2), (5, 1)]\n"
     ]
    }
   ],
   "source": [
    "points = [(1, 2), (3, 4), (5, 1)]\n",
    "sorted_points = sorted(points, key = lambda x: x[1],reverse=True)\n",
    "print(sorted_points)"
   ]
  },
  {
   "cell_type": "code",
   "execution_count": null,
   "id": "78916670",
   "metadata": {},
   "outputs": [
    {
     "name": "stdout",
     "output_type": "stream",
     "text": [
      "[(1, 2, 2), (3, 4, 5), (5, 4, 3)]\n"
     ]
    }
   ],
   "source": [
    "points2 = [(1, 2, 2), (3, 4, 5), (5, 4, 3)]\n",
    "sorted_points2 = sorted(points2, key = lambda x: x[1])\n",
    "print(sorted_points2)"
   ]
  },
  {
   "cell_type": "code",
   "execution_count": null,
   "id": "49a738ae",
   "metadata": {},
   "outputs": [
    {
     "name": "stdout",
     "output_type": "stream",
     "text": [
      "[(1, 2, 2), (5, 4, 3), (3, 4, 5)]\n"
     ]
    }
   ],
   "source": [
    "points2 = [(1, 2, 2), (3, 4, 5), (5, 4, 3)]\n",
    "sorted_points2 = sorted(points2, key = lambda x: (x[1], x[2]))\n",
    "print(sorted_points2)"
   ]
  },
  {
   "cell_type": "code",
   "execution_count": 26,
   "id": "fdca0487",
   "metadata": {},
   "outputs": [],
   "source": [
    "score = [[80, 70], [90, 50], [40, 70], [50, 80]]\n",
    "\n",
    "score2 = [[80, 70], [70, 80], [30, 50], [90, 100], [100, 90], [100, 100], [10, 30]] "
   ]
  },
  {
   "cell_type": "code",
   "execution_count": 37,
   "id": "a342803a",
   "metadata": {},
   "outputs": [],
   "source": [
    "def rank(score):\n",
    "    result = []\n",
    "    avg = []\n",
    "    for i, j in score:\n",
    "        avg.append((i+j)/2)\n",
    "    \n",
    "    avg_sort = sorted(avg, reverse=True)\n",
    "    for i in avg: \n",
    "        result.append(avg_sort.index(i) + 1)\n",
    "    return result\n"
   ]
  },
  {
   "cell_type": "code",
   "execution_count": 34,
   "id": "b130ffa3",
   "metadata": {},
   "outputs": [],
   "source": [
    "score = [[80, 70], [90, 50], [40, 70], [50, 80]]\n",
    "\n",
    "def rank(score):\n",
    "    result = []\n",
    "    avg = []\n",
    "    for i, j in score:\n",
    "        avg.append((i+j)/2)\n",
    "    print(avg)\n"
   ]
  },
  {
   "cell_type": "code",
   "execution_count": 38,
   "id": "04c93d67",
   "metadata": {},
   "outputs": [],
   "source": [
    "def rank(score):\n",
    "    result = []\n",
    "    avg = []\n",
    "\n",
    "    # 평균 계산\n",
    "    for i, j in score:\n",
    "        avg.append((i + j) / 2)\n",
    "\n",
    "    # 평균 출력 (선택 사항)\n",
    "    print(\"평균 점수:\", avg)\n",
    "\n",
    "    # 내림차순 정렬된 평균 리스트\n",
    "    avg_sort = sorted(avg, reverse=True)\n",
    "\n",
    "    # 순위 계산\n",
    "    for i in avg:\n",
    "        result.append(avg_sort.index(i) + 1)\n",
    "\n",
    "    return result\n"
   ]
  },
  {
   "cell_type": "code",
   "execution_count": 40,
   "id": "3c6d5e81",
   "metadata": {},
   "outputs": [
    {
     "name": "stdout",
     "output_type": "stream",
     "text": [
      "평균 점수: [75.0, 70.0, 55.0, 65.0]\n",
      "[1, 2, 4, 3]\n"
     ]
    }
   ],
   "source": [
    "print(rank(score))\n"
   ]
  },
  {
   "cell_type": "code",
   "execution_count": 42,
   "id": "ef3a35a9",
   "metadata": {},
   "outputs": [
    {
     "name": "stdout",
     "output_type": "stream",
     "text": [
      "평균 점수: [75.0, 70.0, 55.0, 65.0]\n"
     ]
    },
    {
     "data": {
      "text/plain": [
       "[1, 2, 4, 3]"
      ]
     },
     "execution_count": 42,
     "metadata": {},
     "output_type": "execute_result"
    }
   ],
   "source": [
    "rank(score)"
   ]
  },
  {
   "cell_type": "code",
   "execution_count": 43,
   "id": "8bb5985b",
   "metadata": {},
   "outputs": [
    {
     "name": "stdout",
     "output_type": "stream",
     "text": [
      "평균 점수: [75.0, 70.0, 55.0, 65.0]\n"
     ]
    },
    {
     "data": {
      "text/plain": [
       "[1, 2, 4, 3]"
      ]
     },
     "execution_count": 43,
     "metadata": {},
     "output_type": "execute_result"
    }
   ],
   "source": [
    "rank(score)"
   ]
  },
  {
   "cell_type": "code",
   "execution_count": 46,
   "id": "649b8cd1",
   "metadata": {},
   "outputs": [],
   "source": [
    "from math import pow\n",
    "\n",
    "num1 = pow(2, 3)"
   ]
  },
  {
   "cell_type": "code",
   "execution_count": null,
   "id": "a56d51d7",
   "metadata": {},
   "outputs": [
    {
     "name": "stdout",
     "output_type": "stream",
     "text": [
      "추첨된 번호: [10, 15, 16, 37, 40, 44]\n"
     ]
    }
   ],
   "source": [
    "# 번호 6자리 추첨기\n",
    "\n",
    "import random\n",
    "\n",
    "def picker():\n",
    "    num6 = random.sample(range(1, 46), 6)\n",
    "    num6.sort()\n",
    "    return num6\n",
    "\n",
    "# 실행\n",
    "print(\"result:\", picker())\n"
   ]
  },
  {
   "cell_type": "code",
   "execution_count": 50,
   "id": "7a0ec32e",
   "metadata": {},
   "outputs": [
    {
     "name": "stdout",
     "output_type": "stream",
     "text": [
      "14\n",
      "[11, 27, 24, 28, 10, 14]\n"
     ]
    }
   ],
   "source": [
    "import random as r\n",
    "\n",
    "result = []\n",
    "while len(result) < 6:\n",
    "    num = r.randint(1, 45)\n",
    "    if num not in result:\n",
    "        result.append(num)\n",
    "print(num)\n",
    "print(result)"
   ]
  },
  {
   "cell_type": "code",
   "execution_count": 56,
   "id": "5fe9521b",
   "metadata": {},
   "outputs": [
    {
     "ename": "AttributeError",
     "evalue": "module 'mymodule' has no attribute 'my_add'",
     "output_type": "error",
     "traceback": [
      "\u001b[31m---------------------------------------------------------------------------\u001b[39m",
      "\u001b[31mAttributeError\u001b[39m                            Traceback (most recent call last)",
      "\u001b[36mCell\u001b[39m\u001b[36m \u001b[39m\u001b[32mIn[56]\u001b[39m\u001b[32m, line 2\u001b[39m\n\u001b[32m      1\u001b[39m \u001b[38;5;28;01mimport\u001b[39;00m\u001b[38;5;250m \u001b[39m\u001b[34;01mmymodule\u001b[39;00m\u001b[38;5;250m \u001b[39m\u001b[38;5;28;01mas\u001b[39;00m\u001b[38;5;250m \u001b[39m\u001b[34;01mmm\u001b[39;00m\n\u001b[32m----> \u001b[39m\u001b[32m2\u001b[39m \u001b[38;5;28mprint\u001b[39m(\u001b[43mmm\u001b[49m\u001b[43m.\u001b[49m\u001b[43mmy_add\u001b[49m(\u001b[32m7\u001b[39m, \u001b[32m3\u001b[39m))\n\u001b[32m      3\u001b[39m \u001b[38;5;28mprint\u001b[39m(mm.my_sub(\u001b[32m5\u001b[39m, \u001b[32m3\u001b[39m))\n",
      "\u001b[31mAttributeError\u001b[39m: module 'mymodule' has no attribute 'my_add'"
     ]
    }
   ],
   "source": [
    "import mymodule as mm\n",
    "print(mm.my_add(7, 3))\n",
    "print(mm.my_sub(5, 3))"
   ]
  },
  {
   "cell_type": "code",
   "execution_count": null,
   "id": "f27cafc8",
   "metadata": {},
   "outputs": [],
   "source": []
  }
 ],
 "metadata": {
  "kernelspec": {
   "display_name": "Python 3",
   "language": "python",
   "name": "python3"
  },
  "language_info": {
   "codemirror_mode": {
    "name": "ipython",
    "version": 3
   },
   "file_extension": ".py",
   "mimetype": "text/x-python",
   "name": "python",
   "nbconvert_exporter": "python",
   "pygments_lexer": "ipython3",
   "version": "3.11.8"
  }
 },
 "nbformat": 4,
 "nbformat_minor": 5
}
